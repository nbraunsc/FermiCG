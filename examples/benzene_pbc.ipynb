{
 "cells": [
  {
   "cell_type": "code",
   "execution_count": 93,
   "id": "c7d8b13a-0423-4797-8428-b227944dc79e",
   "metadata": {},
   "outputs": [],
   "source": [
    "import pyscf\n",
    "import scipy\n",
    "import numpy as np\n",
    "from pyscf.pbc import gto, scf\n"
   ]
  },
  {
   "cell_type": "code",
   "execution_count": 2,
   "id": "a94a6a69-e6f5-4f4a-85a0-c7a9b5f2e584",
   "metadata": {},
   "outputs": [
    {
     "name": "stdout",
     "output_type": "stream",
     "text": [
      "[[0.         0.         0.        ]\n",
      " [0.         0.         0.83122962]\n",
      " [0.         0.83122962 0.        ]\n",
      " [0.         0.83122962 0.83122962]\n",
      " [0.83122962 0.         0.        ]\n",
      " [0.83122962 0.         0.83122962]\n",
      " [0.83122962 0.83122962 0.        ]\n",
      " [0.83122962 0.83122962 0.83122962]]\n"
     ]
    }
   ],
   "source": [
    "\n",
    "cell = gto.Cell()\n",
    "cell.atom = '''\n",
    "H  0 0 0\n",
    "H  .75 0 0\n",
    "'''\n",
    "cell.basis = 'gth-dzvp'\n",
    "cell.pseudo = 'gth-pade'\n",
    "cell.a = np.eye(3) * 2\n",
    "\n",
    "cell.a = np.eye(3) * 2\n",
    "cell.a = [[2,0,0],[0,2,0],[0,0,2]]\n",
    "cell.build()\n",
    "\n",
    "kpts = cell.make_kpts([2,2,2])\n",
    "print(kpts)"
   ]
  },
  {
   "cell_type": "code",
   "execution_count": 3,
   "id": "76f315ce-f9b7-4869-ab77-a93c3a7cb254",
   "metadata": {},
   "outputs": [
    {
     "name": "stdout",
     "output_type": "stream",
     "text": [
      "converged SCF energy = -1.04142270013402\n",
      "**** SCF Summaries ****\n",
      "Total Energy =                          -1.041422700134016\n",
      "Nuclear Repulsion Energy =              -0.700892312698497\n",
      "One-electron Energy =                    0.158742832973618\n",
      "Two-electron Energy =                   -0.499273220409138\n"
     ]
    }
   ],
   "source": [
    "mf = pyscf.pbc.scf.KRHF(cell, kpts=kpts).density_fit()\n",
    "envs = mf.kernel(dump_chk=True)\n",
    "mf.dump_scf_summary()\n"
   ]
  },
  {
   "cell_type": "code",
   "execution_count": 6,
   "id": "7fbf931f-501a-4b55-a30a-f4d10f0eb608",
   "metadata": {},
   "outputs": [],
   "source": [
    "mf.mol.atom_coords(unit='Ang')\n",
    "from pyscf.tools import molden\n",
    "# molden.dump_scf(mf, \"pbc.molden\")\n",
    "\n",
    "from pyscf.tools import chgcar\n",
    "# pyscf.tools.chgcar.density(cell, \"pbc.CHGCAR\", mf.make_rdm1(), nx=60, ny=60, nz=60, resolution=None)"
   ]
  },
  {
   "cell_type": "code",
   "execution_count": 7,
   "id": "e52c83ea-4a55-425b-98b7-7a895bcc0082",
   "metadata": {},
   "outputs": [],
   "source": [
    "# Convert k-point sampled mean-field solution to a single gamma point supercell system\n",
    "gamma_mf = pyscf.pbc.tools.k2gamma.k2gamma(mf)"
   ]
  },
  {
   "cell_type": "code",
   "execution_count": 8,
   "id": "a87c771f-72b9-4884-9fad-8eff7e5a7ea8",
   "metadata": {},
   "outputs": [],
   "source": [
    "# gamma point integrals\n",
    "overlap = gamma_mf.cell.pbc_intor('int1e_ovlp')\n",
    "kin = gamma_mf.cell.pbc_intor('int1e_kin')\n"
   ]
  },
  {
   "cell_type": "code",
   "execution_count": 9,
   "id": "6f8cd216-c0b5-43bc-aa46-9b3afd734591",
   "metadata": {},
   "outputs": [],
   "source": [
    "# from pyscf.pbc import df\n",
    "# eri = df.DF(gamma_mf.cell).get_eri()"
   ]
  },
  {
   "cell_type": "code",
   "execution_count": null,
   "id": "7296455f-747d-4397-ab2c-dc68bdadd3b7",
   "metadata": {},
   "outputs": [],
   "source": []
  },
  {
   "cell_type": "code",
   "execution_count": 10,
   "id": "88610f97-bc63-42d2-82a4-c2c8f8519c34",
   "metadata": {},
   "outputs": [],
   "source": [
    "# gamma_kmesh = pyscf.pbc.tools.k2gamma.kpts_to_kmesh(cell, kpts)\n",
    "# gamma_cell = pyscf.pbc.tools.k2gamma.translation_vectors_for_kmesh(cell, gamma_kmesh)\n",
    "# gamma_mf = pyscf.pbc.tools.k2gamma.k2gamma(mf, kmesh=gamma_kmesh)\n",
    "\n",
    "# gamma_mf = pyscf.pbc.tools.k2gamma.k2gamma(mf)\n",
    "# gamma_cell = pyscf.pbc.tools.k2gamma.\n",
    "molden.dump_scf(gamma_mf, \"pbc.molden\")\n",
    "\n",
    "pyscf.tools.chgcar.density(gamma_mf.cell, \"pbc.CHGCAR\", gamma_mf.make_rdm1(), nx=120, ny=60, nz=60, resolution=None)\n"
   ]
  },
  {
   "cell_type": "code",
   "execution_count": 42,
   "id": "46ef924e-a659-42de-a2f6-0a8196b0c13c",
   "metadata": {},
   "outputs": [
    {
     "name": "stdout",
     "output_type": "stream",
     "text": [
      "\n",
      "WARN: ECP/PP is used. MINAO is not a good reference AO basis in IAO.\n",
      "\n",
      " Iterative localization: IB/P4/2x2, 6 iter; Final gradient 6.92e-15\n"
     ]
    }
   ],
   "source": [
    "pyscf.tools.molden.from_mo(gamma_mf.mol, \"mo_can.molden\", gamma_mf.mo_coeff)\n",
    "C_loc = pyscf.lo.ibo.ibo(gamma_mf.mol, gamma_mf.mo_coeff)\n",
    "pyscf.tools.molden.from_mo(gamma_mf.mol, \"mo_loc.molden\", C_loc)"
   ]
  },
  {
   "cell_type": "code",
   "execution_count": 43,
   "id": "f3a797e7-7c92-4b7b-b560-99412264f372",
   "metadata": {},
   "outputs": [
    {
     "name": "stdout",
     "output_type": "stream",
     "text": [
      "(80, 80)\n",
      "(80, 80)\n"
     ]
    }
   ],
   "source": [
    "print(gamma_mf.mo_coeff.shape)\n",
    "print(C_loc.shape)"
   ]
  },
  {
   "cell_type": "code",
   "execution_count": 57,
   "id": "e7770290-6a0e-4db5-af4c-2ffd6ca3b8da",
   "metadata": {},
   "outputs": [],
   "source": [
    "a = np.argsort(-1*np.abs(np.diag(C_loc.T.dot(overlap.dot(C_loc)))))"
   ]
  },
  {
   "cell_type": "code",
   "execution_count": 129,
   "id": "ea9038c1-1073-444d-b464-9f6be964e9de",
   "metadata": {},
   "outputs": [
    {
     "name": "stdout",
     "output_type": "stream",
     "text": [
      "(80, 16)\n",
      "(80, 80)\n"
     ]
    }
   ],
   "source": [
    "C_val = C_loc[:,a[0:16]]\n",
    "X = np.real(scipy.linalg.sqrtm(overlap))\n",
    "Xinv = np.linalg.inv(X)\n",
    "C_vir = np.eye(C_loc.shape[0]) - X.dot(C_val).dot(C_val.T).dot(X)\n",
    "C_vir = Xinv.dot(C_vir)\n",
    "# Sv = np.linalg.inv(np.real(scipy.linalg.sqrtm(C_vir.T.dot(overlap.dot(C_vir)))))\n",
    "# C_vir = C_vir.dot(Sv)\n",
    "print(C_val.shape)\n",
    "print(C_vir.shape)"
   ]
  },
  {
   "cell_type": "code",
   "execution_count": 130,
   "id": "d0df2095-86be-46ea-8023-07f2e23d39ce",
   "metadata": {},
   "outputs": [
    {
     "data": {
      "text/plain": [
       "array([0.45457096, 0.81848948, 0.72693956, 1.        , 1.        ,\n",
       "       0.45457096, 0.81848948, 0.72693956, 1.        , 1.        ,\n",
       "       0.45457096, 0.81848948, 0.72693956, 1.        , 1.        ,\n",
       "       0.45457096, 0.81848948, 0.72693956, 1.        , 1.        ,\n",
       "       0.45457096, 0.81848948, 0.72693956, 1.        , 1.        ,\n",
       "       0.45457096, 0.81848948, 0.72693956, 1.        , 1.        ,\n",
       "       0.45457096, 0.81848948, 0.72693956, 1.        , 1.        ,\n",
       "       0.45457096, 0.81848948, 0.72693956, 1.        , 1.        ,\n",
       "       0.45457096, 0.81848948, 0.72693956, 1.        , 1.        ,\n",
       "       0.45457096, 0.81848948, 0.72693956, 1.        , 1.        ,\n",
       "       0.45457096, 0.81848948, 0.72693956, 1.        , 1.        ,\n",
       "       0.45457096, 0.81848948, 0.72693956, 1.        , 1.        ,\n",
       "       0.45457096, 0.81848948, 0.72693956, 1.        , 1.        ,\n",
       "       0.45457096, 0.81848948, 0.72693956, 1.        , 1.        ,\n",
       "       0.45457096, 0.81848948, 0.72693956, 1.        , 1.        ,\n",
       "       0.45457096, 0.81848948, 0.72693956, 1.        , 1.        ])"
      ]
     },
     "execution_count": 130,
     "metadata": {},
     "output_type": "execute_result"
    }
   ],
   "source": [
    "np.diag(C_vir.T.dot(overlap.dot(C_vir)))"
   ]
  },
  {
   "cell_type": "code",
   "execution_count": 131,
   "id": "075b865a-fcf3-42de-8648-c03b12e755b4",
   "metadata": {},
   "outputs": [
    {
     "name": "stdout",
     "output_type": "stream",
     "text": [
      "16.00000000000107\n",
      "133.7135029130356\n",
      "8.419833324934036e-12\n"
     ]
    }
   ],
   "source": [
    "print(np.sum(np.abs(C_val.T.dot(overlap.dot(C_val)))))\n",
    "print(np.sum(np.abs(C_vir.T.dot(overlap.dot(C_vir)))))\n",
    "print(np.sum(np.abs(C_vir.T.dot(overlap.dot(C_val)))))"
   ]
  },
  {
   "cell_type": "code",
   "execution_count": null,
   "id": "c7ca4416-ed76-4417-86da-4cef31dbd241",
   "metadata": {},
   "outputs": [],
   "source": []
  }
 ],
 "metadata": {
  "kernelspec": {
   "display_name": "Python 3 (ipykernel)",
   "language": "python",
   "name": "python3"
  },
  "language_info": {
   "codemirror_mode": {
    "name": "ipython",
    "version": 3
   },
   "file_extension": ".py",
   "mimetype": "text/x-python",
   "name": "python",
   "nbconvert_exporter": "python",
   "pygments_lexer": "ipython3",
   "version": "3.7.3"
  }
 },
 "nbformat": 4,
 "nbformat_minor": 5
}
