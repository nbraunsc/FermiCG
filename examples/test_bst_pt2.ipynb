{
 "cells": [
  {
   "cell_type": "code",
   "execution_count": 3,
   "metadata": {},
   "outputs": [
    {
     "name": "stdout",
     "output_type": "stream",
     "text": [
      " Remove duplicates\n",
      " Number of terms reduced from  2525 to  1105\n",
      "IDX001:DIM0016:001|002|\n"
     ]
    },
    {
     "name": "stdout",
     "output_type": "stream",
     "text": [
      "IDX002:DIM0016:003|004|\n"
     ]
    },
    {
     "name": "stdout",
     "output_type": "stream",
     "text": [
      "IDX003:DIM0256:005|006|007|008|\n"
     ]
    },
    {
     "name": "stdout",
     "output_type": "stream",
     "text": [
      "IDX004:DIM0016:009|010|\n"
     ]
    },
    {
     "name": "stdout",
     "output_type": "stream",
     "text": [
      "IDX005:DIM0016:011|012|\n"
     ]
    },
    {
     "name": "stdout",
     "output_type": "stream",
     "text": [
      " Number of tasks:                                         661\n",
      " Compute tasks:                                    \n",
      " Time building compressed vector:                    0.056383 seconds   6.21e-02 Gb GC: 0.0e+00 sec\n"
     ]
    },
    {
     "name": "stdout",
     "output_type": "stream",
     "text": [
      " Add results together:                               0.021665 seconds   1.27e-02 Gb GC: 0.0e+00 sec\n"
     ]
    },
    {
     "name": "stdout",
     "output_type": "stream",
     "text": [
      " In open_matvec_thread\n",
      " Setup threaded jobs:                                0.000178 seconds (1.58 k allocations: 145.469 KiB)\n",
      " Number of jobs:    525\n",
      " Number of threads: 4\n"
     ]
    },
    {
     "name": "stdout",
     "output_type": "stream",
     "text": [
      " Compute matrix-vector:                            "
     ]
    },
    {
     "name": "stdout",
     "output_type": "stream",
     "text": [
      "  0.006038 seconds (78.96 k allocations: 6.596 MiB)\n"
     ]
    },
    {
     "name": "stdout",
     "output_type": "stream",
     "text": [
      " Now collect thread results :                      "
     ]
    },
    {
     "name": "stdout",
     "output_type": "stream",
     "text": [
      "  0.000148 seconds (1.06 k allocations: 64.359 KiB)\n",
      "size(s_bst) = (16306, 1)\n",
      "size(s_tps) = (49378, 1)\n"
     ]
    }
   ],
   "source": [
    "using FermiCG\n",
    "using Printf\n",
    "using Test\n",
    "using JLD2 \n",
    "\n",
    "@load \"../test/_testdata_cmf_h12_64bit.jld2\"\n",
    "\n",
    "clustered_ham = FermiCG.extract_ClusteredTerms(ints, clusters)\n",
    "cluster_ops = FermiCG.compute_cluster_ops(cluster_bases, ints);\n",
    "FermiCG.add_cmf_operators!(cluster_ops, cluster_bases, ints, d1.a, d1.b);\n",
    "\n",
    "v_bst = FermiCG.BSTstate(clusters, FockConfig(init_fspace), cluster_bases)\n",
    "v_tps = FermiCG.TPSCIstate(clusters, FockConfig(init_fspace))\n",
    "FermiCG.eye!(v_tps)\n",
    "\n",
    "s_bst = FermiCG.build_compressed_1st_order_state(v_bst, cluster_ops, clustered_ham, nbody=4, thresh=1e-24)\n",
    "s_tps = FermiCG.open_matvec_thread(v_tps, cluster_ops, clustered_ham, thresh=1e-32)\n",
    "\n",
    "@show size(s_bst);\n",
    "@show size(s_tps);\n",
    "\n",
    "\n",
    "\n"
   ]
  },
  {
   "cell_type": "code",
   "execution_count": 4,
   "metadata": {},
   "outputs": [
    {
     "name": "stdout",
     "output_type": "stream",
     "text": [
      " ci_vector     : (1, 1)\n",
      " thresh_cipsi  : 0.0001\n",
      " thresh_foi    : 1.0e-6\n",
      " thresh_asci   : -1\n",
      " thresh_var    : nothing\n",
      " max_iter      : 10\n",
      " conv_thresh   : 0.0001\n",
      " nbody         : 4\n",
      " incremental   : true\n",
      " ci_conv       : 1.0e-5\n",
      " ci_max_iter   : 50\n",
      " ci_max_ss_vecs: 12\n",
      " davidson      : false\n",
      " max_mem_ci    : 20.0\n",
      " threaded      : true\n"
     ]
    },
    {
     "name": "stdout",
     "output_type": "stream",
     "text": [
      "\n",
      "\n",
      " ===================================================================\n",
      "     Selected CI Iteration:    1 epsilon:   0.00010000\n",
      " ===================================================================\n",
      " Memory needed to hold full CI matrix:   0.00000001 (Gb) Max allowed:  20.00000000 (Gb)\n"
     ]
    },
    {
     "name": "stdout",
     "output_type": "stream",
     "text": [
      "\n",
      " |== Tensor Product State CI =======================================\n",
      " Hamiltonian matrix dimension =     1: \n"
     ]
    },
    {
     "name": "stdout",
     "output_type": "stream",
     "text": [
      " Build full Hamiltonian matrix with dimension:     "
     ]
    },
    {
     "name": "stdout",
     "output_type": "stream",
     "text": [
      "  0.260406 seconds (709.54 k allocations: 37.108 MiB, 99.67% compilation time)\n",
      " Now diagonalize\n"
     ]
    },
    {
     "name": "stdout",
     "output_type": "stream",
     "text": [
      " Diagonalization time:                               0.000002 seconds\n",
      "(1, 1)(1, 1)\n",
      " Compute S2 expectation values:                    "
     ]
    },
    {
     "name": "stdout",
     "output_type": "stream",
     "text": [
      "  0.301862 seconds (467.01 k allocations: 25.308 MiB, 99.71% compilation time)\n"
     ]
    },
    {
     "name": "stdout",
     "output_type": "stream",
     "text": [
      "  Root       Energy           S2\n",
      "     1 -18.31710895   0.00000000\n"
     ]
    },
    {
     "name": "stdout",
     "output_type": "stream",
     "text": [
      " ==================================================================|\n"
     ]
    },
    {
     "name": "stdout",
     "output_type": "stream",
     "text": [
      " Length of ASCI vector        1 →        1 \n",
      " Overlap between old and new eigenvectors:"
     ]
    },
    {
     "name": "stdout",
     "output_type": "stream",
     "text": [
      "\n",
      "  0.000\n",
      "\n",
      " Singular values of overlap:\n",
      "  0.000\n",
      " Norm of new projection:"
     ]
    },
    {
     "name": "stdout",
     "output_type": "stream",
     "text": [
      "\n",
      "   1.00000000\n"
     ]
    },
    {
     "name": "stdout",
     "output_type": "stream",
     "text": [
      "\n",
      " In open_matvec_thread\n",
      " Setup threaded jobs:                                0.000178 seconds (1.58 k allocations: 145.469 KiB)\n",
      " Number of jobs:    525\n",
      " Number of threads: 4\n"
     ]
    },
    {
     "name": "stdout",
     "output_type": "stream",
     "text": [
      " Compute matrix-vector:                              0.004742 seconds (37.30 k allocations: 2.269 MiB)\n"
     ]
    },
    {
     "name": "stdout",
     "output_type": "stream",
     "text": [
      " Now collect thread results :                      "
     ]
    },
    {
     "name": "stdout",
     "output_type": "stream",
     "text": [
      "  0.000141 seconds (1.06 k allocations: 64.359 KiB)\n"
     ]
    },
    {
     "name": "stdout",
     "output_type": "stream",
     "text": [
      " Length of FOIS vector: 12622\n",
      " Compute diagonal:                                 "
     ]
    },
    {
     "name": "stdout",
     "output_type": "stream",
     "text": [
      "\n",
      "  Root         E(0)         E(2)\n"
     ]
    },
    {
     "name": "stdout",
     "output_type": "stream",
     "text": [
      "     1 -18.31710895 -18.32703571\n"
     ]
    },
    {
     "name": "stdout",
     "output_type": "stream",
     "text": [
      " Length of PT1  vector    12622 →     1064 \n",
      " TPSCI Iter 1   Dim: 1     "
     ]
    },
    {
     "name": "stdout",
     "output_type": "stream",
     "text": [
      " E(var):  -18.31710895 \n"
     ]
    },
    {
     "name": "stdout",
     "output_type": "stream",
     "text": [
      "\n",
      "\n",
      " ===================================================================\n",
      "     Selected CI Iteration:    2 epsilon:   0.00010000\n",
      " ===================================================================\n",
      " Add pt vector to current space      1 →   1065\n",
      " Memory needed to hold full CI matrix:   0.00907380 (Gb) Max allowed:  20.00000000 (Gb)\n"
     ]
    },
    {
     "name": "stdout",
     "output_type": "stream",
     "text": [
      "\n",
      " |== Tensor Product State CI =======================================\n",
      " Hamiltonian matrix dimension =  1065: \n"
     ]
    },
    {
     "name": "stdout",
     "output_type": "stream",
     "text": [
      " Fill old/old Hamiltonian:                         "
     ]
    },
    {
     "name": "stdout",
     "output_type": "stream",
     "text": [
      "  0.000010 seconds (2 allocations: 128 bytes)\n",
      " Build old/new Hamiltonian matrix with dimension:  "
     ]
    },
    {
     "name": "stdout",
     "output_type": "stream",
     "text": [
      "  0.295284 seconds (547.18 k allocations: 27.072 MiB, 98.00% compilation time)\n",
      " Build new/new Hamiltonian matrix with dimension:  "
     ]
    },
    {
     "name": "stdout",
     "output_type": "stream",
     "text": [
      "  0.426332 seconds (12.96 M allocations: 377.976 MiB, 26.13% gc time, 0.78% compilation time)\n"
     ]
    },
    {
     "name": "stdout",
     "output_type": "stream",
     "text": [
      " Now diagonalize\n"
     ]
    },
    {
     "name": "stdout",
     "output_type": "stream",
     "text": [
      " Iter:   1 SS: 1    E:  -18.31710895   R: 1.3e-01   LinDep: 0.0e+00* \n"
     ]
    },
    {
     "name": "stdout",
     "output_type": "stream",
     "text": [
      " Iter:   2 SS: 2    E:  -18.32830264   R: 3.6e-02   LinDep: 0.0e+00* \n"
     ]
    },
    {
     "name": "stdout",
     "output_type": "stream",
     "text": [
      " Iter:   3 SS: 3    E:  -18.32945118   R: 2.1e-02   LinDep: 4.4e-16* \n"
     ]
    },
    {
     "name": "stdout",
     "output_type": "stream",
     "text": [
      " Iter:   4 SS: 4    E:  -18.32973247   R: 8.6e-03   LinDep: 8.9e-16* \n"
     ]
    },
    {
     "name": "stdout",
     "output_type": "stream",
     "text": [
      " Iter:   5 SS: 5    E:  -18.32977230   R: 3.6e-03   LinDep: 4.4e-16* \n"
     ]
    },
    {
     "name": "stdout",
     "output_type": "stream",
     "text": [
      " Iter:   6 SS: 6    E:  -18.32977930   R: 1.6e-03   LinDep: 2.2e-16* \n"
     ]
    },
    {
     "name": "stdout",
     "output_type": "stream",
     "text": [
      " Iter:   7 SS: 7    E:  -18.32978113   R: 7.5e-04   LinDep: 1.4e-15* \n"
     ]
    },
    {
     "name": "stdout",
     "output_type": "stream",
     "text": [
      " Iter:   8 SS: 8    E:  -18.32978144   R: 2.6e-04   LinDep: 3.1e-15* \n"
     ]
    },
    {
     "name": "stdout",
     "output_type": "stream",
     "text": [
      " Iter:   9 SS: 9    E:  -18.32978148   R: 1.0e-04   LinDep: 1.4e-15* \n"
     ]
    },
    {
     "name": "stdout",
     "output_type": "stream",
     "text": [
      " Iter:  10 SS: 10   E:  -18.32978148   R: 4.9e-05   LinDep: 3.3e-16* \n"
     ]
    },
    {
     "name": "stdout",
     "output_type": "stream",
     "text": [
      " Iter:  11 SS: 11   E:  -18.32978149   R: 2.4e-05   LinDep: 1.3e-15* \n"
     ]
    },
    {
     "name": "stdout",
     "output_type": "stream",
     "text": [
      " Iter:  12 SS: 1    E:  -18.32978149*  R: 9.0e-06*  LinDep: 1.3e-15* \n"
     ]
    },
    {
     "name": "stdout",
     "output_type": "stream",
     "text": [
      " Diagonalization time:                               0.124208 seconds\n",
      "(1065, 1)(1065, 1)\n",
      " Compute S2 expectation values:                      0.025923 seconds (2.02 M allocations: 59.584 MiB)\n"
     ]
    },
    {
     "name": "stdout",
     "output_type": "stream",
     "text": [
      "  Root       Energy           S2\n",
      "     1 -18.32978149   0.00000924\n",
      " ==================================================================|\n"
     ]
    },
    {
     "name": "stdout",
     "output_type": "stream",
     "text": [
      " Length of ASCI vector     1065 →     1065 \n",
      " Overlap between old and new eigenvectors:\n",
      "  0.994\n",
      "\n",
      " Singular values of overlap:\n",
      "  0.994\n",
      " Norm of new projection:\n",
      "   0.10885261\n",
      "\n",
      " In open_matvec_thread\n",
      " Setup threaded jobs:                                0.012650 seconds (76.53 k allocations: 5.479 MiB)\n",
      " Number of jobs:    4243\n",
      " Number of threads: 4\n"
     ]
    },
    {
     "name": "stdout",
     "output_type": "stream",
     "text": [
      " Compute matrix-vector:                            "
     ]
    },
    {
     "name": "stdout",
     "output_type": "stream",
     "text": [
      "  1.128538 seconds (9.56 M allocations: 351.196 MiB)\n"
     ]
    },
    {
     "name": "stdout",
     "output_type": "stream",
     "text": [
      " Now collect thread results :                      "
     ]
    },
    {
     "name": "stdout",
     "output_type": "stream",
     "text": [
      "  0.001519 seconds (8.51 k allocations: 777.094 KiB)\n"
     ]
    },
    {
     "name": "stdout",
     "output_type": "stream",
     "text": [
      " Length of FOIS vector: 92594\n",
      " Compute diagonal:                                 "
     ]
    },
    {
     "name": "stdout",
     "output_type": "stream",
     "text": [
      "\n",
      "  Root         E(0)         E(2)\n",
      "     1 -18.32978149 -18.33016357\n"
     ]
    },
    {
     "name": "stdout",
     "output_type": "stream",
     "text": [
      " Length of PT1  vector    92594 →     1272 \n",
      " TPSCI Iter 2   Dim: 1065   E(var):  -18.32978149 \n"
     ]
    },
    {
     "name": "stdout",
     "output_type": "stream",
     "text": [
      "\n",
      "\n",
      " ===================================================================\n",
      "     Selected CI Iteration:    3 epsilon:   0.00010000\n",
      " ===================================================================\n",
      " Add pt vector to current space   1065 →   2337\n"
     ]
    },
    {
     "name": "stdout",
     "output_type": "stream",
     "text": [
      " Memory needed to hold full CI matrix:   0.04369255 (Gb) Max allowed:  20.00000000 (Gb)\n"
     ]
    },
    {
     "name": "stdout",
     "output_type": "stream",
     "text": [
      "\n",
      " |== Tensor Product State CI =======================================\n",
      " Hamiltonian matrix dimension =  2337: \n"
     ]
    },
    {
     "name": "stdout",
     "output_type": "stream",
     "text": [
      " Fill old/old Hamiltonian:                         "
     ]
    },
    {
     "name": "stdout",
     "output_type": "stream",
     "text": [
      "  0.010058 seconds (2 allocations: 17.000 KiB)\n",
      " Build old/new Hamiltonian matrix with dimension:  "
     ]
    },
    {
     "name": "stdout",
     "output_type": "stream",
     "text": [
      "  0.343292 seconds (18.75 M allocations: 553.050 MiB, 18.58% gc time)\n",
      " Build new/new Hamiltonian matrix with dimension:  "
     ]
    },
    {
     "name": "stdout",
     "output_type": "stream",
     "text": [
      "  0.252880 seconds (8.62 M allocations: 270.223 MiB, 32.21% gc time)\n",
      " Now diagonalize\n"
     ]
    },
    {
     "name": "stdout",
     "output_type": "stream",
     "text": [
      " Iter:   1 SS: 1    E:  -18.32978149   R: 2.3e-02   LinDep: 2.2e-16* \n"
     ]
    },
    {
     "name": "stdout",
     "output_type": "stream",
     "text": [
      " Iter:   2 SS: 2    E:  -18.33008436   R: 9.8e-03   LinDep: 2.2e-16* \n"
     ]
    },
    {
     "name": "stdout",
     "output_type": "stream",
     "text": [
      " Iter:   3 SS: 3    E:  -18.33013677   R: 3.7e-03   LinDep: 0.0e+00* \n"
     ]
    },
    {
     "name": "stdout",
     "output_type": "stream",
     "text": [
      " Iter:   4 SS: 4    E:  -18.33014560   R: 1.8e-03   LinDep: 1.1e-16* \n"
     ]
    },
    {
     "name": "stdout",
     "output_type": "stream",
     "text": [
      " Iter:   5 SS: 5    E:  -18.33014801   R: 9.2e-04   LinDep: 1.3e-15* \n"
     ]
    },
    {
     "name": "stdout",
     "output_type": "stream",
     "text": [
      " Iter:   6 SS: 6    E:  -18.33014849   R: 4.0e-04   LinDep: 1.1e-16* \n"
     ]
    },
    {
     "name": "stdout",
     "output_type": "stream",
     "text": [
      " Iter:   7 SS: 7    E:  -18.33014858   R: 1.5e-04   LinDep: 0.0e+00* \n"
     ]
    },
    {
     "name": "stdout",
     "output_type": "stream",
     "text": [
      " Iter:   8 SS: 8    E:  -18.33014860   R: 7.4e-05   LinDep: 8.9e-16* \n"
     ]
    },
    {
     "name": "stdout",
     "output_type": "stream",
     "text": [
      " Iter:   9 SS: 9    E:  -18.33014860   R: 3.6e-05   LinDep: 8.9e-16* \n"
     ]
    },
    {
     "name": "stdout",
     "output_type": "stream",
     "text": [
      " Iter:  10 SS: 10   E:  -18.33014860   R: 1.5e-05   LinDep: 1.1e-15* \n"
     ]
    },
    {
     "name": "stdout",
     "output_type": "stream",
     "text": [
      " Iter:  11 SS: 11   E:  -18.33014860*  R: 7.1e-06*  LinDep: 1.8e-15* \n"
     ]
    },
    {
     "name": "stdout",
     "output_type": "stream",
     "text": [
      " Diagonalization time:                               0.077143 seconds\n",
      "(2337, 1)(2337, 1)\n",
      " Compute S2 expectation values:                    "
     ]
    },
    {
     "name": "stdout",
     "output_type": "stream",
     "text": [
      "  0.071149 seconds (5.95 M allocations: 177.190 MiB)\n"
     ]
    },
    {
     "name": "stdout",
     "output_type": "stream",
     "text": [
      "  Root       Energy           S2\n",
      "     1 -18.33014860   0.00000398\n",
      " ==================================================================|\n"
     ]
    },
    {
     "name": "stdout",
     "output_type": "stream",
     "text": [
      " Length of ASCI vector     2337 →     2337 \n",
      " Overlap between old and new eigenvectors:\n",
      "  1.000\n",
      "\n",
      " Singular values of overlap:\n",
      "  1.000\n",
      " Norm of new projection:\n",
      "   0.01793790\n",
      "\n",
      " In open_matvec_thread\n",
      " Setup threaded jobs:                                0.019154 seconds (110.43 k allocations: 7.658 MiB)\n",
      " Number of jobs:    4571\n",
      " Number of threads: 4\n"
     ]
    },
    {
     "name": "stdout",
     "output_type": "stream",
     "text": [
      " Compute matrix-vector:                            "
     ]
    },
    {
     "name": "stdout",
     "output_type": "stream",
     "text": [
      "  1.511431 seconds (18.47 M allocations: 657.623 MiB, 11.96% gc time)\n"
     ]
    },
    {
     "name": "stdout",
     "output_type": "stream",
     "text": [
      " Now collect thread results :                      "
     ]
    },
    {
     "name": "stdout",
     "output_type": "stream",
     "text": [
      "  0.001516 seconds (9.16 k allocations: 797.594 KiB)\n"
     ]
    },
    {
     "name": "stdout",
     "output_type": "stream",
     "text": [
      " Length of FOIS vector: 113109\n",
      " Compute diagonal:                                 "
     ]
    },
    {
     "name": "stdout",
     "output_type": "stream",
     "text": [
      "\n",
      "  Root         E(0)         E(2)\n",
      "     1 -18.33014860 -18.33020082\n"
     ]
    },
    {
     "name": "stdout",
     "output_type": "stream",
     "text": [
      " Length of PT1  vector   113109 →      125 \n",
      " TPSCI Iter 3   Dim: 2337   E(var):  -18.33014860 \n"
     ]
    },
    {
     "name": "stdout",
     "output_type": "stream",
     "text": [
      "\n",
      "\n",
      " ===================================================================\n",
      "     Selected CI Iteration:    4 epsilon:   0.00010000\n",
      " ===================================================================\n",
      " Add pt vector to current space   2337 →   2462\n",
      " Memory needed to hold full CI matrix:   0.04849155 (Gb) Max allowed:  20.00000000 (Gb)\n"
     ]
    },
    {
     "name": "stdout",
     "output_type": "stream",
     "text": [
      "\n",
      " |== Tensor Product State CI =======================================\n",
      " Hamiltonian matrix dimension =  2462: \n"
     ]
    },
    {
     "name": "stdout",
     "output_type": "stream",
     "text": [
      " Fill old/old Hamiltonian:                         "
     ]
    },
    {
     "name": "stdout",
     "output_type": "stream",
     "text": [
      "  0.050675 seconds (4 allocations: 36.719 KiB)\n",
      " Build old/new Hamiltonian matrix with dimension:  "
     ]
    },
    {
     "name": "stdout",
     "output_type": "stream",
     "text": [
      "  0.051001 seconds (2.75 M allocations: 83.181 MiB)\n",
      " Build new/new Hamiltonian matrix with dimension:  "
     ]
    },
    {
     "name": "stdout",
     "output_type": "stream",
     "text": [
      "  0.002825 seconds (116.23 k allocations: 3.427 MiB)\n",
      " Now diagonalize\n"
     ]
    },
    {
     "name": "stdout",
     "output_type": "stream",
     "text": [
      " Iter:   1 SS: 1    E:  -18.33014860   R: 3.4e-03   LinDep: 2.2e-16* \n"
     ]
    },
    {
     "name": "stdout",
     "output_type": "stream",
     "text": [
      " Iter:   2 SS: 2    E:  -18.33015287   R: 5.6e-04   LinDep: 2.2e-16* \n"
     ]
    },
    {
     "name": "stdout",
     "output_type": "stream",
     "text": [
      " Iter:   3 SS: 3    E:  -18.33015302   R: 1.6e-04   LinDep: 2.2e-16* \n"
     ]
    },
    {
     "name": "stdout",
     "output_type": "stream",
     "text": [
      " Iter:   4 SS: 4    E:  -18.33015303   R: 6.3e-05   LinDep: 4.4e-16* \n"
     ]
    },
    {
     "name": "stdout",
     "output_type": "stream",
     "text": [
      " Iter:   5 SS: 5    E:  -18.33015303   R: 2.3e-05   LinDep: 4.4e-16* \n"
     ]
    },
    {
     "name": "stdout",
     "output_type": "stream",
     "text": [
      " Iter:   6 SS: 6    E:  -18.33015303   R: 1.2e-05   LinDep: 1.3e-15* \n"
     ]
    },
    {
     "name": "stdout",
     "output_type": "stream",
     "text": [
      " Iter:   7 SS: 7    E:  -18.33015303*  R: 6.2e-06*  LinDep: 1.0e-15* \n"
     ]
    },
    {
     "name": "stdout",
     "output_type": "stream",
     "text": [
      " Diagonalization time:                               0.055981 seconds\n",
      "(2462, 1)(2462, 1)\n",
      " Compute S2 expectation values:                    "
     ]
    },
    {
     "name": "stdout",
     "output_type": "stream",
     "text": [
      "  0.071633 seconds (6.31 M allocations: 187.990 MiB)\n"
     ]
    },
    {
     "name": "stdout",
     "output_type": "stream",
     "text": [
      "  Root       Energy           S2\n",
      "     1 -18.33015303   0.00000487\n",
      " ==================================================================|\n"
     ]
    },
    {
     "name": "stdout",
     "output_type": "stream",
     "text": [
      " Length of ASCI vector     2462 →     2462 \n",
      " Overlap between old and new eigenvectors:\n",
      "  1.000\n",
      "\n",
      " Singular values of overlap:\n",
      "  1.000\n",
      " Norm of new projection:"
     ]
    },
    {
     "name": "stdout",
     "output_type": "stream",
     "text": [
      "\n",
      "   0.00134346\n",
      "\n",
      " In open_matvec_thread\n",
      " Setup threaded jobs:                              "
     ]
    },
    {
     "name": "stdout",
     "output_type": "stream",
     "text": [
      "  0.099186 seconds (112.26 k allocations: 7.760 MiB, 81.15% gc time)\n",
      " Number of jobs:    4571\n",
      " Number of threads: 4\n"
     ]
    },
    {
     "name": "stdout",
     "output_type": "stream",
     "text": [
      " Compute matrix-vector:                            "
     ]
    },
    {
     "name": "stdout",
     "output_type": "stream",
     "text": [
      "  1.264447 seconds (19.11 M allocations: 676.579 MiB, 8.21% gc time)\n"
     ]
    },
    {
     "name": "stdout",
     "output_type": "stream",
     "text": [
      " Now collect thread results :                      "
     ]
    },
    {
     "name": "stdout",
     "output_type": "stream",
     "text": [
      "  0.001467 seconds (9.16 k allocations: 797.594 KiB)\n"
     ]
    },
    {
     "name": "stdout",
     "output_type": "stream",
     "text": [
      " Length of FOIS vector: 114134\n",
      " Compute diagonal:                                 "
     ]
    },
    {
     "name": "stdout",
     "output_type": "stream",
     "text": [
      "\n",
      "  Root         E(0)         E(2)\n",
      "     1 -18.33015303 -18.33020168\n"
     ]
    },
    {
     "name": "stdout",
     "output_type": "stream",
     "text": [
      " Length of PT1  vector   114134 →       33 \n",
      "*TPSCI Iter 4   Dim: 2462   E(var):  -18.33015303 \n",
      "\n",
      "\u001b[0m\u001b[1m ────────────────────────────────────────────────────────────────────────\u001b[22m\n"
     ]
    },
    {
     "name": "stdout",
     "output_type": "stream",
     "text": [
      "\u001b[0m\u001b[1m                       \u001b[22m         Time                    Allocations      \n",
      "                       ───────────────────────   ────────────────────────\n",
      "   Tot / % measured:        12.8s /  88.6%           4.68GiB /  94.0%    \n",
      "\n",
      " Section       ncalls     time    %tot     avg     alloc    %tot      avg\n",
      " ────────────────────────────────────────────────────────────────────────\n",
      " ci                 4    5.75s   50.5%   1.44s   2.09GiB   47.4%   534MiB\n",
      " matvec             4    4.06s   35.7%   1.01s   1.70GiB   38.7%   436MiB\n",
      " diagonal           4    798ms    7.0%   200ms    346MiB    7.7%  86.5MiB\n",
      " copy              12    378ms    3.3%  31.5ms    167MiB    3.7%  14.0MiB\n",
      " vec rotate         4    146ms    1.3%  36.5ms   18.2MiB    0.4%  4.55MiB\n",
      " sig rotate         4    115ms    1.0%  28.9ms   78.4MiB    1.7%  19.6MiB\n",
      " project out        4   79.3ms    0.7%  19.8ms   9.72MiB    0.2%  2.43MiB\n",
      " sig update         4   52.9ms    0.5%  13.2ms   10.4MiB    0.2%  2.60MiB\n",
      "\u001b[0m\u001b[1m ────────────────────────────────────────────────────────────────────────\u001b[22m\n"
     ]
    },
    {
     "name": "stdout",
     "output_type": "stream",
     "text": [
      "\n",
      " |..................................do batched PT2......................................\n",
      " thresh_foi    :1.0e-8\n",
      " prescreen     :true\n",
      " H0            :Hcmf\n",
      " nbody         :4\n",
      " Norms of input states:\n",
      "   1.00000000\n",
      " Compute <0|H0|0>:                                   0.033624 seconds (1.76 M allocations: 53.438 MiB)\n"
     ]
    },
    {
     "name": "stdout",
     "output_type": "stream",
     "text": [
      " Compute <0|H|0>:                                  "
     ]
    },
    {
     "name": "stdout",
     "output_type": "stream",
     "text": [
      "  1.493467 seconds (80.17 M allocations: 2.279 GiB, 29.45% gc time)\n"
     ]
    },
    {
     "name": "stdout",
     "output_type": "stream",
     "text": [
      " Number of jobs:    4571\n",
      " Number of threads: 4\n"
     ]
    },
    {
     "name": "stdout",
     "output_type": "stream",
     "text": [
      " Time spent computing E2          6.9 (s)\n"
     ]
    },
    {
     "name": "stdout",
     "output_type": "stream",
     "text": [
      "  Root         E(0)         E(2)\n",
      "     1 -18.33015303 -18.33020256\n",
      " ......................................................................................|\n"
     ]
    }
   ],
   "source": [
    "e_tpsci, v_tpsci = FermiCG.tpsci_ci(v_tps, cluster_ops, clustered_ham, thresh_cipsi=1e-4, thresh_foi=1e-6, thresh_asci=-1)\n",
    "e_pt = FermiCG.compute_pt2_energy(v_tpsci, cluster_ops, clustered_ham, thresh_foi=1e-8, verbose=0);"
   ]
  },
  {
   "attachments": {},
   "cell_type": "markdown",
   "metadata": {},
   "source": [
    "# BST PT2"
   ]
  },
  {
   "cell_type": "code",
   "execution_count": 5,
   "metadata": {},
   "outputs": [
    {
     "name": "stdout",
     "output_type": "stream",
     "text": [
      " |== BST CI ========================================================\n",
      " Solve CI with # variables:                                 1\n",
      " Cache Hamiltonian:                                "
     ]
    },
    {
     "name": "stdout",
     "output_type": "stream",
     "text": [
      "  2.002725 seconds (3.06 M allocations: 183.022 MiB, 99.40% compilation time)\n"
     ]
    },
    {
     "name": "stdout",
     "output_type": "stream",
     "text": [
      " Iter:   1 SS: 1    E:  -18.31710895*  R: 0.0e+00*  LinDep: 0.0e+00* \n"
     ]
    },
    {
     "name": "stdout",
     "output_type": "stream",
     "text": [
      " Diagonalization time:                               0.790178 seconds\n",
      " Compute <S^2>:                                    "
     ]
    },
    {
     "name": "stdout",
     "output_type": "stream",
     "text": [
      "  0.003450 seconds (2.06 k allocations: 443.771 KiB, 81.73% compilation time)\n"
     ]
    },
    {
     "name": "stdout",
     "output_type": "stream",
     "text": [
      "  Root       Energy           S2\n",
      "     1 -18.31710895   0.00000000\n",
      " ==================================================================|\n",
      "\n"
     ]
    },
    {
     "name": "stdout",
     "output_type": "stream",
     "text": [
      " |...................................BST-PT2............................................\n",
      " H0          : Hcmf\n",
      " nbody       : 4\n",
      " thresh_foi  : 1.0e-12\n",
      " max_number  : nothing\n",
      " opt_ref     : true\n",
      " ci_tol      : 1.0e-6\n",
      " verbose     : 1\n",
      "\n",
      " Length of Reference:                                       1\n",
      " Solve zeroth-order problem:                       \n",
      " |== BST CI ========================================================\n",
      " Solve CI with # variables:                                 1\n",
      " Cache Hamiltonian:                                "
     ]
    },
    {
     "name": "stdout",
     "output_type": "stream",
     "text": [
      "  0.005266 seconds (4.08 k allocations: 30.747 MiB)\n"
     ]
    },
    {
     "name": "stdout",
     "output_type": "stream",
     "text": [
      " Iter:   1 SS: 1    E:  -18.31710895*  R: 0.0e+00*  LinDep: 0.0e+00* \n"
     ]
    },
    {
     "name": "stdout",
     "output_type": "stream",
     "text": [
      " Diagonalization time:                               0.033952 seconds\n",
      " Compute <S^2>:                                    "
     ]
    },
    {
     "name": "stdout",
     "output_type": "stream",
     "text": [
      "  0.000468 seconds (1.36 k allocations: 400.547 KiB)\n"
     ]
    },
    {
     "name": "stdout",
     "output_type": "stream",
     "text": [
      "  Root       Energy           S2\n",
      "     1 -18.31710895   0.00000000\n",
      " ==================================================================|\n",
      " Diagonalization time:                               0.046963 seconds\n",
      " Compute <0|H0|0>:                                 "
     ]
    },
    {
     "name": "stdout",
     "output_type": "stream",
     "text": [
      "  0.011637 seconds (8.91 k allocations: 844.294 KiB, 96.52% compilation time)\n",
      "  Root      <0|H|0>      <0|F|0>\n",
      "     1 -18.31710895 -10.81361409\n"
     ]
    },
    {
     "name": "stdout",
     "output_type": "stream",
     "text": [
      " Number of jobs:    525\n",
      " Number of threads: 4\n"
     ]
    },
    {
     "name": "stdout",
     "output_type": "stream",
     "text": [
      " |----------------------------------------------------------------------------------------------------|\n",
      " |0%                                                                                              100%|\n",
      " |"
     ]
    },
    {
     "name": "stdout",
     "output_type": "stream",
     "text": [
      "-"
     ]
    },
    {
     "name": "stdout",
     "output_type": "stream",
     "text": [
      "-"
     ]
    },
    {
     "name": "stdout",
     "output_type": "stream",
     "text": [
      "-"
     ]
    },
    {
     "name": "stdout",
     "output_type": "stream",
     "text": [
      "-"
     ]
    },
    {
     "name": "stdout",
     "output_type": "stream",
     "text": [
      "-"
     ]
    },
    {
     "name": "stdout",
     "output_type": "stream",
     "text": [
      "--"
     ]
    },
    {
     "name": "stdout",
     "output_type": "stream",
     "text": [
      "-"
     ]
    },
    {
     "name": "stdout",
     "output_type": "stream",
     "text": [
      "-"
     ]
    },
    {
     "name": "stdout",
     "output_type": "stream",
     "text": [
      "--"
     ]
    },
    {
     "name": "stdout",
     "output_type": "stream",
     "text": [
      "-"
     ]
    },
    {
     "name": "stdout",
     "output_type": "stream",
     "text": [
      "-"
     ]
    },
    {
     "name": "stdout",
     "output_type": "stream",
     "text": [
      "-"
     ]
    },
    {
     "name": "stdout",
     "output_type": "stream",
     "text": [
      "-"
     ]
    },
    {
     "name": "stdout",
     "output_type": "stream",
     "text": [
      "-"
     ]
    },
    {
     "name": "stdout",
     "output_type": "stream",
     "text": [
      "-"
     ]
    },
    {
     "name": "stdout",
     "output_type": "stream",
     "text": [
      "-"
     ]
    },
    {
     "name": "stdout",
     "output_type": "stream",
     "text": [
      "-"
     ]
    },
    {
     "name": "stdout",
     "output_type": "stream",
     "text": [
      "--"
     ]
    },
    {
     "name": "stdout",
     "output_type": "stream",
     "text": [
      "-"
     ]
    },
    {
     "name": "stdout",
     "output_type": "stream",
     "text": [
      "-"
     ]
    },
    {
     "name": "stdout",
     "output_type": "stream",
     "text": [
      "-"
     ]
    },
    {
     "name": "stdout",
     "output_type": "stream",
     "text": [
      "-"
     ]
    },
    {
     "name": "stdout",
     "output_type": "stream",
     "text": [
      "-"
     ]
    },
    {
     "name": "stdout",
     "output_type": "stream",
     "text": [
      "-"
     ]
    },
    {
     "name": "stdout",
     "output_type": "stream",
     "text": [
      "-"
     ]
    },
    {
     "name": "stdout",
     "output_type": "stream",
     "text": [
      "-"
     ]
    },
    {
     "name": "stdout",
     "output_type": "stream",
     "text": [
      "-"
     ]
    },
    {
     "name": "stdout",
     "output_type": "stream",
     "text": [
      "-"
     ]
    },
    {
     "name": "stdout",
     "output_type": "stream",
     "text": [
      "-"
     ]
    },
    {
     "name": "stdout",
     "output_type": "stream",
     "text": [
      "-"
     ]
    },
    {
     "name": "stdout",
     "output_type": "stream",
     "text": [
      "-"
     ]
    },
    {
     "name": "stdout",
     "output_type": "stream",
     "text": [
      "-"
     ]
    },
    {
     "name": "stdout",
     "output_type": "stream",
     "text": [
      "-"
     ]
    },
    {
     "name": "stdout",
     "output_type": "stream",
     "text": [
      "-"
     ]
    },
    {
     "name": "stdout",
     "output_type": "stream",
     "text": [
      "-"
     ]
    },
    {
     "name": "stdout",
     "output_type": "stream",
     "text": [
      "-"
     ]
    },
    {
     "name": "stdout",
     "output_type": "stream",
     "text": [
      "-"
     ]
    },
    {
     "name": "stdout",
     "output_type": "stream",
     "text": [
      "-"
     ]
    },
    {
     "name": "stdout",
     "output_type": "stream",
     "text": [
      "--"
     ]
    },
    {
     "name": "stdout",
     "output_type": "stream",
     "text": [
      "-"
     ]
    },
    {
     "name": "stdout",
     "output_type": "stream",
     "text": [
      "-"
     ]
    },
    {
     "name": "stdout",
     "output_type": "stream",
     "text": [
      "-"
     ]
    },
    {
     "name": "stdout",
     "output_type": "stream",
     "text": [
      "-"
     ]
    },
    {
     "name": "stdout",
     "output_type": "stream",
     "text": [
      "-"
     ]
    },
    {
     "name": "stdout",
     "output_type": "stream",
     "text": [
      "-"
     ]
    },
    {
     "name": "stdout",
     "output_type": "stream",
     "text": [
      "-"
     ]
    },
    {
     "name": "stdout",
     "output_type": "stream",
     "text": [
      "-"
     ]
    },
    {
     "name": "stdout",
     "output_type": "stream",
     "text": [
      "-"
     ]
    },
    {
     "name": "stdout",
     "output_type": "stream",
     "text": [
      "-"
     ]
    },
    {
     "name": "stdout",
     "output_type": "stream",
     "text": [
      "--"
     ]
    },
    {
     "name": "stdout",
     "output_type": "stream",
     "text": [
      "-"
     ]
    },
    {
     "name": "stdout",
     "output_type": "stream",
     "text": [
      "-"
     ]
    },
    {
     "name": "stdout",
     "output_type": "stream",
     "text": [
      "-"
     ]
    },
    {
     "name": "stdout",
     "output_type": "stream",
     "text": [
      "-"
     ]
    },
    {
     "name": "stdout",
     "output_type": "stream",
     "text": [
      "-"
     ]
    },
    {
     "name": "stdout",
     "output_type": "stream",
     "text": [
      "-"
     ]
    },
    {
     "name": "stdout",
     "output_type": "stream",
     "text": [
      "---"
     ]
    },
    {
     "name": "stdout",
     "output_type": "stream",
     "text": [
      "-"
     ]
    },
    {
     "name": "stdout",
     "output_type": "stream",
     "text": [
      "-"
     ]
    },
    {
     "name": "stdout",
     "output_type": "stream",
     "text": [
      "-"
     ]
    },
    {
     "name": "stdout",
     "output_type": "stream",
     "text": [
      "-"
     ]
    },
    {
     "name": "stdout",
     "output_type": "stream",
     "text": [
      "-"
     ]
    },
    {
     "name": "stdout",
     "output_type": "stream",
     "text": [
      "-"
     ]
    },
    {
     "name": "stdout",
     "output_type": "stream",
     "text": [
      "-"
     ]
    },
    {
     "name": "stdout",
     "output_type": "stream",
     "text": [
      "-"
     ]
    },
    {
     "name": "stdout",
     "output_type": "stream",
     "text": [
      "-"
     ]
    },
    {
     "name": "stdout",
     "output_type": "stream",
     "text": [
      "-"
     ]
    },
    {
     "name": "stdout",
     "output_type": "stream",
     "text": [
      "-"
     ]
    },
    {
     "name": "stdout",
     "output_type": "stream",
     "text": [
      "--"
     ]
    },
    {
     "name": "stdout",
     "output_type": "stream",
     "text": [
      "-"
     ]
    },
    {
     "name": "stdout",
     "output_type": "stream",
     "text": [
      "-"
     ]
    },
    {
     "name": "stdout",
     "output_type": "stream",
     "text": [
      "-"
     ]
    },
    {
     "name": "stdout",
     "output_type": "stream",
     "text": [
      "-"
     ]
    },
    {
     "name": "stdout",
     "output_type": "stream",
     "text": [
      "-"
     ]
    },
    {
     "name": "stdout",
     "output_type": "stream",
     "text": [
      "-"
     ]
    },
    {
     "name": "stdout",
     "output_type": "stream",
     "text": [
      "-"
     ]
    },
    {
     "name": "stdout",
     "output_type": "stream",
     "text": [
      "-"
     ]
    },
    {
     "name": "stdout",
     "output_type": "stream",
     "text": [
      "-"
     ]
    },
    {
     "name": "stdout",
     "output_type": "stream",
     "text": [
      "-"
     ]
    },
    {
     "name": "stdout",
     "output_type": "stream",
     "text": [
      "-------------|\n"
     ]
    },
    {
     "name": "stdout",
     "output_type": "stream",
     "text": [
      " Time spent computing E2:                              11.3 s Allocated:    1.5e+00 GB\n",
      " State   1: E(PT2) corr:                          -0.00992615\n",
      "  Root         E(0)         E(2)\n",
      "     1 -18.31710895 -18.32703510\n",
      " ......................................................................................|\n"
     ]
    }
   ],
   "source": [
    "e_var = FermiCG.ci_solve(v_bst, cluster_ops, clustered_ham);\n",
    "e_pt = FermiCG.compute_pt2_energy(v_bst, cluster_ops, clustered_ham, thresh_foi=1e-12, verbose=1);"
   ]
  },
  {
   "cell_type": "code",
   "execution_count": 6,
   "metadata": {},
   "outputs": [
    {
     "name": "stdout",
     "output_type": "stream",
     "text": [
      " |== BST CI ========================================================\n",
      " Solve CI with # variables:                                 1\n",
      " Cache Hamiltonian:                                "
     ]
    },
    {
     "name": "stdout",
     "output_type": "stream",
     "text": [
      "  0.010290 seconds (4.08 k allocations: 30.747 MiB)\n"
     ]
    },
    {
     "name": "stdout",
     "output_type": "stream",
     "text": [
      " Iter:   1 SS: 1    E:  -18.31710895*  R: 0.0e+00*  LinDep: 0.0e+00* \n"
     ]
    },
    {
     "name": "stdout",
     "output_type": "stream",
     "text": [
      " Diagonalization time:                               0.001084 seconds\n",
      " Compute <S^2>:                                    "
     ]
    },
    {
     "name": "stdout",
     "output_type": "stream",
     "text": [
      "  0.000466 seconds (1.35 k allocations: 399.688 KiB)\n"
     ]
    },
    {
     "name": "stdout",
     "output_type": "stream",
     "text": [
      "  Root       Energy           S2\n",
      "     1 -18.31710895   0.00000000\n",
      " ==================================================================|\n",
      " Number of tasks:                                         661\n",
      " Compute tasks:                                    \n"
     ]
    },
    {
     "name": "stdout",
     "output_type": "stream",
     "text": [
      " Time building compressed vector:                    0.056275 seconds   6.21e-02 Gb GC: 0.0e+00 sec\n"
     ]
    },
    {
     "name": "stdout",
     "output_type": "stream",
     "text": [
      " Add results together:                               0.020071 seconds   1.28e-02 Gb GC: 0.0e+00 sec\n"
     ]
    },
    {
     "name": "stdout",
     "output_type": "stream",
     "text": [
      " Length of input      FOIS:                             16406\n"
     ]
    },
    {
     "name": "stdout",
     "output_type": "stream",
     "text": [
      " Compute <X|V|0>:                                    0.020110 seconds   1.10e-02 Gb\n"
     ]
    },
    {
     "name": "stdout",
     "output_type": "stream",
     "text": [
      "  Root      <0|H|0>      <0|F|0>\n",
      "     1 -18.31710895 -10.81361409\n"
     ]
    },
    {
     "name": "stdout",
     "output_type": "stream",
     "text": [
      " Compute <X|F|0>:                                    0.000676 seconds   9.80e-04 Gb\n",
      " Cache zeroth-order Hamiltonian:                     0.048775 seconds   4.61e-02 Gb\n"
     ]
    },
    {
     "name": "stdout",
     "output_type": "stream",
     "text": [
      "  1\t3.34e-02\n"
     ]
    },
    {
     "name": "stdout",
     "output_type": "stream",
     "text": [
      "  2\t1.39e-02\n"
     ]
    },
    {
     "name": "stdout",
     "output_type": "stream",
     "text": [
      "  3\t6.84e-03\n"
     ]
    },
    {
     "name": "stdout",
     "output_type": "stream",
     "text": [
      "  4\t2.85e-03\n"
     ]
    },
    {
     "name": "stdout",
     "output_type": "stream",
     "text": [
      "  5\t7.85e-04\n"
     ]
    },
    {
     "name": "stdout",
     "output_type": "stream",
     "text": [
      "  6\t3.19e-04\n"
     ]
    },
    {
     "name": "stdout",
     "output_type": "stream",
     "text": [
      "  7\t1.30e-04\n"
     ]
    },
    {
     "name": "stdout",
     "output_type": "stream",
     "text": [
      "  8\t6.55e-05\n"
     ]
    },
    {
     "name": "stdout",
     "output_type": "stream",
     "text": [
      "  9\t3.17e-05\n"
     ]
    },
    {
     "name": "stdout",
     "output_type": "stream",
     "text": [
      " 10\t1.15e-05\n"
     ]
    },
    {
     "name": "stdout",
     "output_type": "stream",
     "text": [
      " 11\t4.83e-06\n"
     ]
    },
    {
     "name": "stdout",
     "output_type": "stream",
     "text": [
      " 12\t1.78e-06\n"
     ]
    },
    {
     "name": "stdout",
     "output_type": "stream",
     "text": [
      " 13\t9.22e-07\n"
     ]
    },
    {
     "name": "stdout",
     "output_type": "stream",
     "text": [
      " 14\t3.73e-07\n"
     ]
    },
    {
     "name": "stdout",
     "output_type": "stream",
     "text": [
      " 15\t1.73e-07\n"
     ]
    },
    {
     "name": "stdout",
     "output_type": "stream",
     "text": [
      " 16\t8.33e-08\n"
     ]
    },
    {
     "name": "stdout",
     "output_type": "stream",
     "text": [
      " 17\t3.61e-08\n"
     ]
    },
    {
     "name": "stdout",
     "output_type": "stream",
     "text": [
      " 18\t1.74e-08\n"
     ]
    },
    {
     "name": "stdout",
     "output_type": "stream",
     "text": [
      " 19\t8.26e-09\n",
      "\n",
      " Time to solve for PT1 with conjugate gradient:      2.427479 seconds   1.18e+00 Gb\n"
     ]
    },
    {
     "name": "stdout",
     "output_type": "stream",
     "text": [
      " Compute <0|H|1>:                                    0.339014 seconds   2.91e-02 Gb\n",
      " SxC[r]  -0.00000000 SxSx   1.00000000\n",
      " State   1: E(PT2) corr:                          -0.00992622\n",
      " State   1: E(PT2):                              -18.32703517\n",
      "  3.780144 seconds (18.33 M allocations: 1.316 GiB, 7.89% gc time, 77.04% compilation time)\n"
     ]
    }
   ],
   "source": [
    "e_var, v = FermiCG.ci_solve(v_bst, cluster_ops, clustered_ham);\n",
    "\n",
    "s_bst = FermiCG.build_compressed_1st_order_state(v, cluster_ops, clustered_ham, nbody=4, thresh=1e-33)\n",
    "    \n",
    "# FermiCG.project_out!(s_bst, v, thresh=1e-32)\n",
    "# @show size(s_bst)\n",
    "# s_bst = FermiCG.compress(s_bst, thresh=1e-32)\n",
    "# @show size(s_bst)\n",
    "@time v_pt, e_pt = FermiCG.hylleraas_compressed_mp2(s_bst, v, cluster_ops, clustered_ham, tol=1e-8, verbose=1);"
   ]
  },
  {
   "cell_type": "code",
   "execution_count": 7,
   "metadata": {},
   "outputs": [
    {
     "name": "stdout",
     "output_type": "stream",
     "text": [
      "\n",
      " |...................................BST-PT2............................................\n"
     ]
    },
    {
     "name": "stdout",
     "output_type": "stream",
     "text": [
      " Length of input      FOIS:                             16406\n"
     ]
    },
    {
     "name": "stdout",
     "output_type": "stream",
     "text": [
      " Compute <X|H|0>:                                    0.019779 seconds   1.10e-02 Gb\n"
     ]
    },
    {
     "name": "stdout",
     "output_type": "stream",
     "text": [
      " Compute <X|F|0>:                                    0.000746 seconds   9.81e-04 Gb\n",
      " State   1: E(PT2) corr:                          -0.00992622\n",
      "  Root         E(0)         E(2)\n",
      "     1 -18.31710895 -18.32703517\n",
      " ......................................................................................|\n",
      "  0.107132 seconds (368.45 k allocations: 46.758 MiB, 35.03% compilation time)\n"
     ]
    }
   ],
   "source": [
    "@time e_pt, v_pt = FermiCG.compute_pt1_wavefunction(s_bst, v, cluster_ops, clustered_ham);"
   ]
  },
  {
   "cell_type": "markdown",
   "metadata": {},
   "source": [
    "# Pseudo-Canonicalization"
   ]
  },
  {
   "cell_type": "code",
   "execution_count": 8,
   "metadata": {},
   "outputs": [
    {
     "name": "stdout",
     "output_type": "stream",
     "text": [
      " |== BST CI ========================================================\n",
      " Solve CI with # variables:                                 1\n",
      " Cache Hamiltonian:                                "
     ]
    },
    {
     "name": "stdout",
     "output_type": "stream",
     "text": [
      "  0.004971 seconds (4.08 k allocations: 30.747 MiB)\n"
     ]
    },
    {
     "name": "stdout",
     "output_type": "stream",
     "text": [
      " Iter:   1 SS: 1    E:  -18.31710895*  R: 0.0e+00*  LinDep: 0.0e+00* \n"
     ]
    },
    {
     "name": "stdout",
     "output_type": "stream",
     "text": [
      " Diagonalization time:                               0.001095 seconds\n",
      " Compute <S^2>:                                    "
     ]
    },
    {
     "name": "stdout",
     "output_type": "stream",
     "text": [
      "  0.000432 seconds (1.35 k allocations: 399.688 KiB)\n"
     ]
    },
    {
     "name": "stdout",
     "output_type": "stream",
     "text": [
      "  Root       Energy           S2\n",
      "     1 -18.31710895   0.00000000\n",
      " ==================================================================|\n",
      " Number of tasks:                                         661\n",
      " Compute tasks:                                    \n"
     ]
    },
    {
     "name": "stdout",
     "output_type": "stream",
     "text": [
      " Time building compressed vector:                    0.223771 seconds   4.60e-02 Gb GC: 0.0e+00 sec\n"
     ]
    },
    {
     "name": "stdout",
     "output_type": "stream",
     "text": [
      " Add results together:                               0.048600 seconds   1.03e-02 Gb GC: 0.0e+00 sec\n"
     ]
    },
    {
     "name": "stdout",
     "output_type": "stream",
     "text": [
      " |== BST CI ========================================================\n",
      " Solve CI with # variables:                               651\n",
      " Cache Hamiltonian:                                "
     ]
    },
    {
     "name": "stdout",
     "output_type": "stream",
     "text": [
      "  2.594871 seconds (10.36 M allocations: 641.130 MiB, 2.53% gc time, 82.40% compilation time)\n"
     ]
    },
    {
     "name": "stdout",
     "output_type": "stream",
     "text": [
      " Iter:   1 SS: 1    E:  -18.31121098   R: 1.5e-01   LinDep: 2.2e-16* \n"
     ]
    },
    {
     "name": "stdout",
     "output_type": "stream",
     "text": [
      " Iter:   2 SS: 2    E:  -18.32762969   R: 4.6e-02   LinDep: 1.1e-16* \n"
     ]
    },
    {
     "name": "stdout",
     "output_type": "stream",
     "text": [
      " Iter:   3 SS: 3    E:  -18.32954116   R: 2.3e-02   LinDep: 1.1e-16* \n"
     ]
    },
    {
     "name": "stdout",
     "output_type": "stream",
     "text": [
      " Iter:   4 SS: 4    E:  -18.32988950   R: 8.1e-03   LinDep: 8.9e-16* \n"
     ]
    },
    {
     "name": "stdout",
     "output_type": "stream",
     "text": [
      " Iter:   5 SS: 5    E:  -18.32993714   R: 3.2e-03   LinDep: 6.7e-16* \n"
     ]
    },
    {
     "name": "stdout",
     "output_type": "stream",
     "text": [
      " Iter:   6 SS: 6    E:  -18.32994500   R: 1.3e-03   LinDep: 4.4e-16* \n"
     ]
    },
    {
     "name": "stdout",
     "output_type": "stream",
     "text": [
      " Iter:   7 SS: 7    E:  -18.32994613   R: 5.0e-04   LinDep: 0.0e+00* \n"
     ]
    },
    {
     "name": "stdout",
     "output_type": "stream",
     "text": [
      " Iter:   8 SS: 8    E:  -18.32994629   R: 1.8e-04   LinDep: 0.0e+00* \n"
     ]
    },
    {
     "name": "stdout",
     "output_type": "stream",
     "text": [
      " Iter:   9 SS: 9    E:  -18.32994631   R: 6.1e-05   LinDep: 2.3e-15* \n"
     ]
    },
    {
     "name": "stdout",
     "output_type": "stream",
     "text": [
      " Iter:  10 SS: 10   E:  -18.32994631   R: 2.0e-05   LinDep: 1.3e-15* \n"
     ]
    },
    {
     "name": "stdout",
     "output_type": "stream",
     "text": [
      " Iter:  11 SS: 11   E:  -18.32994631*  R: 7.9e-06*  LinDep: 3.3e-16* \n"
     ]
    },
    {
     "name": "stdout",
     "output_type": "stream",
     "text": [
      " Diagonalization time:                               2.739043 seconds\n",
      " Compute <S^2>:                                    "
     ]
    },
    {
     "name": "stdout",
     "output_type": "stream",
     "text": [
      "  0.038323 seconds (389.26 k allocations: 26.057 MiB)\n"
     ]
    },
    {
     "name": "stdout",
     "output_type": "stream",
     "text": [
      "  Root       Energy           S2\n",
      "     1 -18.32994631   0.00014089\n",
      " ==================================================================|\n",
      " Number of tasks:                                         661\n",
      " Compute tasks:                                    \n"
     ]
    },
    {
     "name": "stdout",
     "output_type": "stream",
     "text": [
      " Time building compressed vector:                    2.551300 seconds   2.25e+00 Gb GC: 6.3e-01 sec\n"
     ]
    },
    {
     "name": "stdout",
     "output_type": "stream",
     "text": [
      " Add results together:                               0.653650 seconds   1.97e-01 Gb GC: 0.0e+00 sec\n"
     ]
    }
   ],
   "source": [
    "r_var, v = FermiCG.ci_solve(v_bst, cluster_ops, clustered_ham);\n",
    "\n",
    "v = FermiCG.build_compressed_1st_order_state(v, cluster_ops, clustered_ham, nbody=4, thresh=1e-3)\n",
    "\n",
    "e_var, v = FermiCG.ci_solve(v, cluster_ops, clustered_ham); \n",
    "\n",
    "s_bst = FermiCG.build_compressed_1st_order_state(v, cluster_ops, clustered_ham, nbody=4, thresh=1e-4)\n",
    "\n",
    "# @time v_pt, e_pt = FermiCG.hylleraas_compressed_mp2(s_bst, v, cluster_ops, clustered_ham, tol=1e-8, verbose=1);"
   ]
  },
  {
   "cell_type": "code",
   "execution_count": 9,
   "metadata": {},
   "outputs": [
    {
     "name": "stdout",
     "output_type": "stream",
     "text": [
      "\n",
      " |...................................BST-PT2............................................\n"
     ]
    },
    {
     "name": "stdout",
     "output_type": "stream",
     "text": [
      " Length of input      FOIS:                             30373\n"
     ]
    },
    {
     "name": "stdout",
     "output_type": "stream",
     "text": [
      " Compute <X|H|0>:                                    2.317532 seconds   1.74e+00 Gb\n"
     ]
    },
    {
     "name": "stdout",
     "output_type": "stream",
     "text": [
      " Compute <X|F|0>:                                    0.014122 seconds   1.36e-02 Gb\n",
      " State   1: E(PT2) corr:                          -0.00021217\n",
      "  Root         E(0)         E(2)\n",
      "     1 -18.32994631 -18.33015848\n",
      " ......................................................................................|\n",
      "  3.196717 seconds (26.24 M allocations: 2.147 GiB, 11.83% gc time, 2.90% compilation time)\n"
     ]
    }
   ],
   "source": [
    "@time v_pt, e_pt = FermiCG.compute_pt1_wavefunction(s_bst, v, cluster_ops, clustered_ham, verbose=1);"
   ]
  },
  {
   "cell_type": "code",
   "execution_count": 10,
   "metadata": {},
   "outputs": [
    {
     "name": "stdout",
     "output_type": "stream",
     "text": [
      " Number of tasks:                                         661\n",
      " Compute tasks:                                    \n"
     ]
    },
    {
     "name": "stdout",
     "output_type": "stream",
     "text": [
      " Time building compressed vector:                    2.619656 seconds   2.24e+00 Gb GC: 7.8e-01 sec\n"
     ]
    },
    {
     "name": "stdout",
     "output_type": "stream",
     "text": [
      " Add results together:                               0.132165 seconds   9.40e-02 Gb GC: 0.0e+00 sec\n"
     ]
    },
    {
     "name": "stdout",
     "output_type": "stream",
     "text": [
      " Compute Compressed FOIS:                            2.752843 seconds   2.34e+00 Gb\n",
      "\n",
      " |...................................BST-PT2............................................\n"
     ]
    },
    {
     "name": "stdout",
     "output_type": "stream",
     "text": [
      " Length of input      FOIS:                             30373\n"
     ]
    },
    {
     "name": "stdout",
     "output_type": "stream",
     "text": [
      " Compute <X|H|0>:                                    2.228038 seconds   1.74e+00 Gb\n"
     ]
    },
    {
     "name": "stdout",
     "output_type": "stream",
     "text": [
      " Compute <X|F|0>:                                    0.014392 seconds   1.36e-02 Gb\n",
      " State   1: E(PT2) corr:                          -0.00021217\n",
      "  Root         E(0)         E(2)\n",
      "     1 -18.32994631 -18.33015848\n",
      " ......................................................................................|\n",
      "  5.780186 seconds (51.57 M allocations: 4.319 GiB, 18.00% gc time, 0.38% compilation time)\n"
     ]
    }
   ],
   "source": [
    "@time v_pt, e_pt = FermiCG.compute_pt1_wavefunction(v, cluster_ops, clustered_ham, verbose=1, thresh_foi=1e-4);"
   ]
  },
  {
   "cell_type": "code",
   "execution_count": 14,
   "metadata": {},
   "outputs": [
    {
     "name": "stdout",
     "output_type": "stream",
     "text": [
      "\n",
      " |...................................BST-PT2............................................\n",
      " Solve zeroth-order problem:                       \n",
      " |== BST CI ========================================================\n",
      " Solve CI with # variables:                               651\n",
      " Cache Hamiltonian:                                "
     ]
    },
    {
     "name": "stdout",
     "output_type": "stream",
     "text": [
      "  0.463890 seconds (4.34 M allocations: 332.750 MiB)\n"
     ]
    },
    {
     "name": "stdout",
     "output_type": "stream",
     "text": [
      " Iter:   1 SS: 1    E:  -18.32994631   R: 7.9e-06   LinDep: 2.2e-16* \n"
     ]
    },
    {
     "name": "stdout",
     "output_type": "stream",
     "text": [
      " Iter:   2 SS: 2    E:  -18.32994631   R: 3.6e-06   LinDep: 0.0e+00* \n"
     ]
    },
    {
     "name": "stdout",
     "output_type": "stream",
     "text": [
      " Iter:   3 SS: 3    E:  -18.32994631   R: 1.6e-06   LinDep: 0.0e+00* \n"
     ]
    },
    {
     "name": "stdout",
     "output_type": "stream",
     "text": [
      " Iter:   4 SS: 4    E:  -18.32994631*  R: 6.4e-07*  LinDep: 0.0e+00* \n"
     ]
    },
    {
     "name": "stdout",
     "output_type": "stream",
     "text": [
      " Diagonalization time:                               0.819134 seconds\n",
      " Compute <S^2>:                                    "
     ]
    },
    {
     "name": "stdout",
     "output_type": "stream",
     "text": [
      "  0.040566 seconds (390.17 k allocations: 26.113 MiB)\n"
     ]
    },
    {
     "name": "stdout",
     "output_type": "stream",
     "text": [
      "  Root       Energy           S2\n",
      "     1 -18.32994631   0.00014095\n",
      " ==================================================================|\n",
      " Diagonalization time:                               1.355918 seconds\n",
      " Compute <0|H0|0>:                                 "
     ]
    },
    {
     "name": "stdout",
     "output_type": "stream",
     "text": [
      "  0.008907 seconds (83.81 k allocations: 6.452 MiB)\n"
     ]
    },
    {
     "name": "stdout",
     "output_type": "stream",
     "text": [
      " Number of jobs:    4009\n",
      " Number of threads: 4\n"
     ]
    },
    {
     "name": "stdout",
     "output_type": "stream",
     "text": [
      " Time spent computing E2:                              16.4 s Allocated:    1.9e+01 GB\n",
      " State   1: E(PT2) corr:                          -0.00021493\n",
      "  Root         E(0)         E(2)\n",
      "     1 -18.32994631 -18.33016125\n",
      " ......................................................................................|\n",
      " 18.066178 seconds (147.65 M allocations: 18.629 GiB, 17.82% gc time, 1.44% compilation time)\n"
     ]
    }
   ],
   "source": [
    "@time e_pt = FermiCG.compute_pt2_energy(v, cluster_ops, clustered_ham, verbose=0, thresh_foi=1e-8);"
   ]
  },
  {
   "cell_type": "code",
   "execution_count": 17,
   "metadata": {},
   "outputs": [
    {
     "name": "stdout",
     "output_type": "stream",
     "text": [
      " max_iter         : 20\n",
      " max_iter_pt      : 200\n",
      " nbody            : 4\n",
      " H0               : Hcmf\n",
      " thresh_var       : 0.01\n",
      " thresh_foi       : 1.0e-6\n",
      " thresh_pt        : 0.001\n",
      " ci_conv          : 1.0e-5\n",
      " ci_max_iter      : 50\n",
      " ci_max_ss_vecs   : 12\n",
      " ci_lindep_thresh : 1.0e-10\n",
      " resolve_ss       : false\n",
      " do_pt            : true\n",
      " tol_tucker       : 1.0e-6\n",
      "\n",
      "\n",
      "\n",
      " ===================================================================\n",
      "     BST Iteration:    1 epsilon:   0.01000000\n",
      " ===================================================================\n",
      " Ref state compressed from:                               651 → 41         (thresh =  1.0e-02)\n",
      " Compute zeroth-order energy:                      "
     ]
    },
    {
     "name": "stdout",
     "output_type": "stream",
     "text": [
      "  0.052424 seconds (457.23 k allocations: 33.701 MiB)\n",
      " Compute <S^2>:                                    "
     ]
    },
    {
     "name": "stdout",
     "output_type": "stream",
     "text": [
      "  0.006188 seconds (49.77 k allocations: 3.550 MiB)\n",
      "  Root       Energy           S2\n",
      "     1 -18.32639340   0.00001933\n"
     ]
    },
    {
     "name": "stdout",
     "output_type": "stream",
     "text": [
      "\n",
      " Compute FOIS. Reference space dim:                        41\n",
      " Number of tasks:                                         661\n",
      " Compute tasks:                                    \n"
     ]
    },
    {
     "name": "stdout",
     "output_type": "stream",
     "text": [
      " Time building compressed vector:                    1.322430 seconds   1.28e+00 Gb GC: 0.0e+00 sec\n"
     ]
    },
    {
     "name": "stdout",
     "output_type": "stream",
     "text": [
      " Add results together:                               0.262778 seconds   1.78e-01 Gb GC: 0.0e+00 sec\n"
     ]
    },
    {
     "name": "stdout",
     "output_type": "stream",
     "text": [
      " Total time spent building FOIS:                     1.586317 seconds\n",
      " FOIS compressed from:                                  96728 → 37120      (thresh =  1.0e-06)\n",
      "     1   7.48113304\n",
      "\n",
      " PT vector reference space dim:                            41\n"
     ]
    },
    {
     "name": "stdout",
     "output_type": "stream",
     "text": [
      " Length of input      FOIS:                             37120\n"
     ]
    },
    {
     "name": "stdout",
     "output_type": "stream",
     "text": [
      " Compute <X|V|0>:                                    0.742342 seconds   3.86e-01 Gb\n"
     ]
    },
    {
     "name": "stdout",
     "output_type": "stream",
     "text": [
      "  Root      <0|H|0>      <0|F|0>\n",
      "     1 -18.32639340 -10.80017242\n"
     ]
    },
    {
     "name": "stdout",
     "output_type": "stream",
     "text": [
      " Compute <X|F|0>:                                    0.005340 seconds   4.67e-03 Gb\n"
     ]
    },
    {
     "name": "stdout",
     "output_type": "stream",
     "text": [
      " Cache zeroth-order Hamiltonian:                     0.606649 seconds   7.30e-02 Gb\n"
     ]
    },
    {
     "name": "stdout",
     "output_type": "stream",
     "text": [
      "  1\t4.58e-02\n"
     ]
    },
    {
     "name": "stdout",
     "output_type": "stream",
     "text": [
      "  2\t2.46e-02\n"
     ]
    },
    {
     "name": "stdout",
     "output_type": "stream",
     "text": [
      "  3\t2.30e-02\n"
     ]
    },
    {
     "name": "stdout",
     "output_type": "stream",
     "text": [
      "  4\t2.86e-02\n"
     ]
    },
    {
     "name": "stdout",
     "output_type": "stream",
     "text": [
      "  5\t5.29e-02\n"
     ]
    },
    {
     "name": "stdout",
     "output_type": "stream",
     "text": [
      "  6\t2.45e-01\n"
     ]
    },
    {
     "name": "stdout",
     "output_type": "stream",
     "text": [
      "  7\t1.35e-01\n"
     ]
    },
    {
     "name": "stdout",
     "output_type": "stream",
     "text": [
      "  8\t5.38e-02\n"
     ]
    },
    {
     "name": "stdout",
     "output_type": "stream",
     "text": [
      "  9\t2.44e-02\n"
     ]
    },
    {
     "name": "stdout",
     "output_type": "stream",
     "text": [
      " 10\t9.80e-03\n"
     ]
    },
    {
     "name": "stdout",
     "output_type": "stream",
     "text": [
      " 11\t4.33e-03\n"
     ]
    },
    {
     "name": "stdout",
     "output_type": "stream",
     "text": [
      " 12\t1.73e-03\n"
     ]
    },
    {
     "name": "stdout",
     "output_type": "stream",
     "text": [
      " 13\t5.66e-04\n"
     ]
    },
    {
     "name": "stdout",
     "output_type": "stream",
     "text": [
      " 14\t2.27e-04\n"
     ]
    },
    {
     "name": "stdout",
     "output_type": "stream",
     "text": [
      " 15\t1.16e-04\n"
     ]
    },
    {
     "name": "stdout",
     "output_type": "stream",
     "text": [
      " 16\t6.00e-05\n"
     ]
    },
    {
     "name": "stdout",
     "output_type": "stream",
     "text": [
      " 17\t3.16e-05\n"
     ]
    },
    {
     "name": "stdout",
     "output_type": "stream",
     "text": [
      " 18\t1.55e-05\n"
     ]
    },
    {
     "name": "stdout",
     "output_type": "stream",
     "text": [
      " 19\t6.84e-06\n",
      "\n",
      " Time to solve for PT1 with conjugate gradient:      4.759526 seconds   3.26e+00 Gb\n"
     ]
    },
    {
     "name": "stdout",
     "output_type": "stream",
     "text": [
      " Compute <0|H|1>:                                    0.670481 seconds   4.43e-01 Gb\n",
      " SxC[r]   0.95468826 SxSx   0.99999686\n",
      " State   1: E(PT2) corr:                          -0.00150170\n",
      " State   1: E(PT2):                              -18.32789510\n",
      " Time spent compute PT1 vector:                      6.917182 seconds\n",
      " PT compressed from:                                    37120 → 195        (thresh =  1.0e-03)\n",
      " Overlap between <1|0>:                            0.95468826 \n",
      "\n",
      " Variational space compressed from:                       241 → 195        (thresh =  1.0e-03)\n",
      " Add new space to variational space:                 0.003300 seconds\n",
      " Solve in compressed FOIS:                         \n",
      " |== BST CI ========================================================\n",
      " Solve CI with # variables:                               195\n"
     ]
    },
    {
     "name": "stdout",
     "output_type": "stream",
     "text": [
      " Cache Hamiltonian:                                "
     ]
    },
    {
     "name": "stdout",
     "output_type": "stream",
     "text": [
      "  0.288656 seconds (2.43 M allocations: 200.976 MiB)\n"
     ]
    },
    {
     "name": "stdout",
     "output_type": "stream",
     "text": [
      " Iter:   1 SS: 1    E:  -18.32863747   R: 4.3e-02   LinDep: 0.0e+00* \n"
     ]
    },
    {
     "name": "stdout",
     "output_type": "stream",
     "text": [
      " Iter:   2 SS: 2    E:  -18.32969447   R: 8.8e-03   LinDep: 2.2e-16* \n"
     ]
    },
    {
     "name": "stdout",
     "output_type": "stream",
     "text": [
      " Iter:   3 SS: 3    E:  -18.32974276   R: 2.4e-03   LinDep: 1.2e-15* \n"
     ]
    },
    {
     "name": "stdout",
     "output_type": "stream",
     "text": [
      " Iter:   4 SS: 4    E:  -18.32974626   R: 8.7e-04   LinDep: 1.1e-16* \n"
     ]
    },
    {
     "name": "stdout",
     "output_type": "stream",
     "text": [
      " Iter:   5 SS: 5    E:  -18.32974681   R: 2.5e-04   LinDep: 1.2e-15* \n"
     ]
    },
    {
     "name": "stdout",
     "output_type": "stream",
     "text": [
      " Iter:   6 SS: 6    E:  -18.32974687   R: 1.2e-04   LinDep: 1.1e-16* \n"
     ]
    },
    {
     "name": "stdout",
     "output_type": "stream",
     "text": [
      " Iter:   7 SS: 7    E:  -18.32974688   R: 3.5e-05   LinDep: 4.4e-16* \n"
     ]
    },
    {
     "name": "stdout",
     "output_type": "stream",
     "text": [
      " Iter:   8 SS: 8    E:  -18.32974688   R: 1.1e-05   LinDep: 1.6e-15* \n"
     ]
    },
    {
     "name": "stdout",
     "output_type": "stream",
     "text": [
      " Iter:   9 SS: 9    E:  -18.32974688*  R: 3.6e-06*  LinDep: 5.6e-16* \n"
     ]
    },
    {
     "name": "stdout",
     "output_type": "stream",
     "text": [
      " Diagonalization time:                               1.098980 seconds\n",
      " Compute <S^2>:                                    "
     ]
    },
    {
     "name": "stdout",
     "output_type": "stream",
     "text": [
      "  0.027592 seconds (254.88 k allocations: 16.462 MiB)\n"
     ]
    },
    {
     "name": "stdout",
     "output_type": "stream",
     "text": [
      "  Root       Energy           S2\n",
      "     1 -18.32974688   0.00006096\n",
      " ==================================================================|\n",
      " Compute <S^2>:                                    "
     ]
    },
    {
     "name": "stdout",
     "output_type": "stream",
     "text": [
      "  0.027649 seconds (255.08 k allocations: 16.473 MiB)\n",
      " E(Reference):       -18.32639340 \n",
      " E(PT2):             -18.32789510 \n",
      " E(BST):             -18.32974688 \n",
      "\n",
      "\n",
      "\n",
      "\n",
      " ===================================================================\n",
      "     BST Iteration:    2 epsilon:   0.01000000\n",
      " ===================================================================\n",
      " Ref state compressed from:                               195 → 41         (thresh =  1.0e-02)\n",
      " Compute zeroth-order energy:                      "
     ]
    },
    {
     "name": "stdout",
     "output_type": "stream",
     "text": [
      "  0.052892 seconds (469.00 k allocations: 34.382 MiB)\n",
      " Compute <S^2>:                                    "
     ]
    },
    {
     "name": "stdout",
     "output_type": "stream",
     "text": [
      "  0.006600 seconds (50.09 k allocations: 3.566 MiB)\n",
      "  Root       Energy           S2\n",
      "     1 -18.32642098   0.00002069\n"
     ]
    },
    {
     "name": "stdout",
     "output_type": "stream",
     "text": [
      "\n",
      " Compute FOIS. Reference space dim:                        41\n"
     ]
    },
    {
     "name": "stdout",
     "output_type": "stream",
     "text": [
      " Number of tasks:                                         661\n",
      " Compute tasks:                                    \n"
     ]
    },
    {
     "name": "stdout",
     "output_type": "stream",
     "text": [
      " Time building compressed vector:                    1.308353 seconds   1.28e+00 Gb GC: 0.0e+00 sec\n"
     ]
    },
    {
     "name": "stdout",
     "output_type": "stream",
     "text": [
      " Add results together:                               0.271472 seconds   1.79e-01 Gb GC: 0.0e+00 sec\n"
     ]
    },
    {
     "name": "stdout",
     "output_type": "stream",
     "text": [
      " Total time spent building FOIS:                     1.581697 seconds\n",
      " FOIS compressed from:                             "
     ]
    },
    {
     "name": "stdout",
     "output_type": "stream",
     "text": [
      "     97576 → 37016      (thresh =  1.0e-06)\n",
      "     1   7.48141542\n",
      "\n",
      " PT vector reference space dim:                            41\n",
      " Length of input      FOIS:                             37016\n"
     ]
    },
    {
     "name": "stdout",
     "output_type": "stream",
     "text": [
      " Compute <X|V|0>:                                    0.684900 seconds   3.89e-01 Gb\n"
     ]
    },
    {
     "name": "stdout",
     "output_type": "stream",
     "text": [
      "  Root      <0|H|0>      <0|F|0>\n",
      "     1 -18.32642098 -10.80047296\n"
     ]
    },
    {
     "name": "stdout",
     "output_type": "stream",
     "text": [
      " Compute <X|F|0>:                                    0.005395 seconds   4.66e-03 Gb\n"
     ]
    },
    {
     "name": "stdout",
     "output_type": "stream",
     "text": [
      " Cache zeroth-order Hamiltonian:                     0.039886 seconds   7.28e-02 Gb\n"
     ]
    },
    {
     "name": "stdout",
     "output_type": "stream",
     "text": [
      "  1\t4.56e-02\n"
     ]
    },
    {
     "name": "stdout",
     "output_type": "stream",
     "text": [
      "  2\t2.45e-02\n"
     ]
    },
    {
     "name": "stdout",
     "output_type": "stream",
     "text": [
      "  3\t2.25e-02\n"
     ]
    },
    {
     "name": "stdout",
     "output_type": "stream",
     "text": [
      "  4\t2.82e-02\n"
     ]
    },
    {
     "name": "stdout",
     "output_type": "stream",
     "text": [
      "  5\t5.20e-02\n"
     ]
    },
    {
     "name": "stdout",
     "output_type": "stream",
     "text": [
      "  6\t2.35e-01\n"
     ]
    },
    {
     "name": "stdout",
     "output_type": "stream",
     "text": [
      "  7\t1.40e-01\n"
     ]
    },
    {
     "name": "stdout",
     "output_type": "stream",
     "text": [
      "  8\t5.47e-02\n"
     ]
    },
    {
     "name": "stdout",
     "output_type": "stream",
     "text": [
      "  9\t2.45e-02\n"
     ]
    },
    {
     "name": "stdout",
     "output_type": "stream",
     "text": [
      " 10\t1.00e-02\n"
     ]
    },
    {
     "name": "stdout",
     "output_type": "stream",
     "text": [
      " 11\t4.40e-03\n"
     ]
    },
    {
     "name": "stdout",
     "output_type": "stream",
     "text": [
      " 12\t1.76e-03\n"
     ]
    },
    {
     "name": "stdout",
     "output_type": "stream",
     "text": [
      " 13\t5.75e-04\n"
     ]
    },
    {
     "name": "stdout",
     "output_type": "stream",
     "text": [
      " 14\t2.33e-04\n"
     ]
    },
    {
     "name": "stdout",
     "output_type": "stream",
     "text": [
      " 15\t1.20e-04\n"
     ]
    },
    {
     "name": "stdout",
     "output_type": "stream",
     "text": [
      " 16\t6.15e-05\n"
     ]
    },
    {
     "name": "stdout",
     "output_type": "stream",
     "text": [
      " 17\t3.25e-05\n"
     ]
    },
    {
     "name": "stdout",
     "output_type": "stream",
     "text": [
      " 18\t1.59e-05\n"
     ]
    },
    {
     "name": "stdout",
     "output_type": "stream",
     "text": [
      " 19\t7.01e-06\n",
      "\n",
      " Time to solve for PT1 with conjugate gradient:      4.879008 seconds   3.25e+00 Gb\n"
     ]
    },
    {
     "name": "stdout",
     "output_type": "stream",
     "text": [
      " Compute <0|H|1>:                                    0.698720 seconds   4.75e-01 Gb\n",
      " SxC[r]   0.96395868 SxSx   0.99999624\n",
      " State   1: E(PT2) corr:                          -0.00148056\n",
      " State   1: E(PT2):                              -18.32790153\n",
      " Time spent compute PT1 vector:                      6.439047 seconds\n",
      " PT compressed from:                               "
     ]
    },
    {
     "name": "stdout",
     "output_type": "stream",
     "text": [
      "     37016 → 195        (thresh =  1.0e-03)\n",
      " Overlap between <1|0>:                            0.96395868 \n",
      "\n",
      " Variational space compressed from:                       241 → 195        (thresh =  1.0e-03)\n",
      " Add new space to variational space:                 0.003439 seconds\n",
      " Solve in compressed FOIS:                         \n",
      " |== BST CI ========================================================\n",
      " Solve CI with # variables:                               195\n",
      " Cache Hamiltonian:                                "
     ]
    },
    {
     "name": "stdout",
     "output_type": "stream",
     "text": [
      "  0.291260 seconds (2.15 M allocations: 184.470 MiB)\n"
     ]
    },
    {
     "name": "stdout",
     "output_type": "stream",
     "text": [
      " Iter:   1 SS: 1    E:  -18.32863557   R: 4.3e-02   LinDep: 4.4e-16* \n"
     ]
    },
    {
     "name": "stdout",
     "output_type": "stream",
     "text": [
      " Iter:   2 SS: 2    E:  -18.32968469   R: 8.9e-03   LinDep: 2.2e-16* \n"
     ]
    },
    {
     "name": "stdout",
     "output_type": "stream",
     "text": [
      " Iter:   3 SS: 3    E:  -18.32973429   R: 2.4e-03   LinDep: 1.1e-15* \n"
     ]
    },
    {
     "name": "stdout",
     "output_type": "stream",
     "text": [
      " Iter:   4 SS: 4    E:  -18.32973804   R: 9.2e-04   LinDep: 6.7e-16* \n"
     ]
    },
    {
     "name": "stdout",
     "output_type": "stream",
     "text": [
      " Iter:   5 SS: 5    E:  -18.32973865   R: 2.8e-04   LinDep: 0.0e+00* \n"
     ]
    },
    {
     "name": "stdout",
     "output_type": "stream",
     "text": [
      " Iter:   6 SS: 6    E:  -18.32973873   R: 1.2e-04   LinDep: 2.2e-16* \n"
     ]
    },
    {
     "name": "stdout",
     "output_type": "stream",
     "text": [
      " Iter:   7 SS: 7    E:  -18.32973874   R: 3.7e-05   LinDep: 8.9e-16* \n"
     ]
    },
    {
     "name": "stdout",
     "output_type": "stream",
     "text": [
      " Iter:   8 SS: 8    E:  -18.32973874   R: 1.2e-05   LinDep: 4.4e-16* \n"
     ]
    },
    {
     "name": "stdout",
     "output_type": "stream",
     "text": [
      " Iter:   9 SS: 9    E:  -18.32973874*  R: 3.6e-06*  LinDep: 1.8e-15* \n"
     ]
    },
    {
     "name": "stdout",
     "output_type": "stream",
     "text": [
      " Diagonalization time:                               1.120248 seconds\n",
      " Compute <S^2>:                                    "
     ]
    },
    {
     "name": "stdout",
     "output_type": "stream",
     "text": [
      "  0.027546 seconds (251.28 k allocations: 16.259 MiB)\n"
     ]
    },
    {
     "name": "stdout",
     "output_type": "stream",
     "text": [
      "  Root       Energy           S2\n",
      "     1 -18.32973874   0.00006610\n",
      " ==================================================================|\n",
      " Compute <S^2>:                                    "
     ]
    },
    {
     "name": "stdout",
     "output_type": "stream",
     "text": [
      "  0.027704 seconds (250.33 k allocations: 16.208 MiB)\n",
      " E(Reference):       -18.32642098 \n",
      " E(PT2):             -18.32790153 \n",
      " E(BST):             -18.32973874 \n",
      "\n",
      "\n",
      "\n",
      "\n",
      " ===================================================================\n",
      "     BST Iteration:    3 epsilon:   0.01000000\n",
      " ===================================================================\n",
      " Ref state compressed from:                               195 → 41         (thresh =  1.0e-02)\n",
      " Compute zeroth-order energy:                      "
     ]
    },
    {
     "name": "stdout",
     "output_type": "stream",
     "text": [
      "  0.051613 seconds (437.12 k allocations: 32.559 MiB)\n",
      " Compute <S^2>:                                    "
     ]
    },
    {
     "name": "stdout",
     "output_type": "stream",
     "text": [
      "  0.006329 seconds (49.55 k allocations: 3.535 MiB)\n",
      "  Root       Energy           S2\n",
      "     1 -18.32641459   0.00002354\n"
     ]
    },
    {
     "name": "stdout",
     "output_type": "stream",
     "text": [
      "\n",
      " Compute FOIS. Reference space dim:                        41\n",
      " Number of tasks:                                         661\n",
      " Compute tasks:                                    \n"
     ]
    },
    {
     "name": "stdout",
     "output_type": "stream",
     "text": [
      " Time building compressed vector:                    1.313180 seconds   1.28e+00 Gb GC: 0.0e+00 sec\n"
     ]
    },
    {
     "name": "stdout",
     "output_type": "stream",
     "text": [
      " Add results together:                               0.878371 seconds   1.78e-01 Gb GC: 6.0e-01 sec\n"
     ]
    },
    {
     "name": "stdout",
     "output_type": "stream",
     "text": [
      " Total time spent building FOIS:                     2.192735 seconds\n",
      " FOIS compressed from:                                  97516 → 37016      (thresh =  1.0e-06)\n",
      "     1   7.48144578\n",
      "\n",
      " PT vector reference space dim:                            41\n"
     ]
    },
    {
     "name": "stdout",
     "output_type": "stream",
     "text": [
      " Length of input      FOIS:                             37016\n"
     ]
    },
    {
     "name": "stdout",
     "output_type": "stream",
     "text": [
      " Compute <X|V|0>:                                    0.663304 seconds   3.70e-01 Gb\n"
     ]
    },
    {
     "name": "stdout",
     "output_type": "stream",
     "text": [
      "  Root      <0|H|0>      <0|F|0>\n",
      "     1 -18.32641459 -10.80048830\n"
     ]
    },
    {
     "name": "stdout",
     "output_type": "stream",
     "text": [
      " Compute <X|F|0>:                                    0.005643 seconds   4.66e-03 Gb\n"
     ]
    },
    {
     "name": "stdout",
     "output_type": "stream",
     "text": [
      " Cache zeroth-order Hamiltonian:                     0.039871 seconds   7.28e-02 Gb\n"
     ]
    },
    {
     "name": "stdout",
     "output_type": "stream",
     "text": [
      "  1\t4.56e-02\n"
     ]
    },
    {
     "name": "stdout",
     "output_type": "stream",
     "text": [
      "  2\t2.44e-02\n"
     ]
    },
    {
     "name": "stdout",
     "output_type": "stream",
     "text": [
      "  3\t2.25e-02\n"
     ]
    },
    {
     "name": "stdout",
     "output_type": "stream",
     "text": [
      "  4\t2.81e-02\n"
     ]
    },
    {
     "name": "stdout",
     "output_type": "stream",
     "text": [
      "  5\t5.19e-02\n"
     ]
    },
    {
     "name": "stdout",
     "output_type": "stream",
     "text": [
      "  6\t2.35e-01\n"
     ]
    },
    {
     "name": "stdout",
     "output_type": "stream",
     "text": [
      "  7\t1.40e-01\n"
     ]
    },
    {
     "name": "stdout",
     "output_type": "stream",
     "text": [
      "  8\t5.46e-02\n"
     ]
    },
    {
     "name": "stdout",
     "output_type": "stream",
     "text": [
      "  9\t2.45e-02\n"
     ]
    },
    {
     "name": "stdout",
     "output_type": "stream",
     "text": [
      " 10\t1.00e-02\n"
     ]
    },
    {
     "name": "stdout",
     "output_type": "stream",
     "text": [
      " 11\t4.41e-03\n"
     ]
    },
    {
     "name": "stdout",
     "output_type": "stream",
     "text": [
      " 12\t1.76e-03\n"
     ]
    },
    {
     "name": "stdout",
     "output_type": "stream",
     "text": [
      " 13\t5.79e-04\n"
     ]
    },
    {
     "name": "stdout",
     "output_type": "stream",
     "text": [
      " 14\t2.37e-04\n"
     ]
    },
    {
     "name": "stdout",
     "output_type": "stream",
     "text": [
      " 15\t1.22e-04\n"
     ]
    },
    {
     "name": "stdout",
     "output_type": "stream",
     "text": [
      " 16\t6.24e-05\n"
     ]
    },
    {
     "name": "stdout",
     "output_type": "stream",
     "text": [
      " 17\t3.28e-05\n"
     ]
    },
    {
     "name": "stdout",
     "output_type": "stream",
     "text": [
      " 18\t1.60e-05\n"
     ]
    },
    {
     "name": "stdout",
     "output_type": "stream",
     "text": [
      " 19\t7.13e-06\n",
      "\n",
      " Time to solve for PT1 with conjugate gradient:      4.812070 seconds   3.25e+00 Gb\n"
     ]
    },
    {
     "name": "stdout",
     "output_type": "stream",
     "text": [
      " Compute <0|H|1>:                                    0.650312 seconds   4.09e-01 Gb\n",
      " SxC[r]   0.96404204 SxSx   0.99999544\n",
      " State   1: E(PT2) corr:                          -0.00147869\n",
      " State   1: E(PT2):                              -18.32789328\n",
      " Time spent compute PT1 vector:                      6.332376 seconds\n",
      " PT compressed from:                               "
     ]
    },
    {
     "name": "stdout",
     "output_type": "stream",
     "text": [
      "     37016 → 195        (thresh =  1.0e-03)\n",
      " Overlap between <1|0>:                            0.96404204 \n",
      "\n",
      " Variational space compressed from:                       241 → 195        (thresh =  1.0e-03)\n",
      " Add new space to variational space:                 0.003321 seconds\n",
      " Solve in compressed FOIS:                         \n",
      " |== BST CI ========================================================\n",
      " Solve CI with # variables:                               195\n",
      " Cache Hamiltonian:                                "
     ]
    },
    {
     "name": "stdout",
     "output_type": "stream",
     "text": [
      "  0.259818 seconds (2.18 M allocations: 185.971 MiB)\n"
     ]
    },
    {
     "name": "stdout",
     "output_type": "stream",
     "text": [
      " Iter:   1 SS: 1    E:  -18.32862518   R: 4.3e-02   LinDep: 1.1e-16* \n"
     ]
    },
    {
     "name": "stdout",
     "output_type": "stream",
     "text": [
      " Iter:   2 SS: 2    E:  -18.32967448   R: 8.9e-03   LinDep: 2.2e-16* \n"
     ]
    },
    {
     "name": "stdout",
     "output_type": "stream",
     "text": [
      " Iter:   3 SS: 3    E:  -18.32972410   R: 2.4e-03   LinDep: 1.0e-15* \n"
     ]
    },
    {
     "name": "stdout",
     "output_type": "stream",
     "text": [
      " Iter:   4 SS: 4    E:  -18.32972785   R: 9.2e-04   LinDep: 6.7e-16* \n"
     ]
    },
    {
     "name": "stdout",
     "output_type": "stream",
     "text": [
      " Iter:   5 SS: 5    E:  -18.32972847   R: 2.8e-04   LinDep: 6.7e-16* \n"
     ]
    },
    {
     "name": "stdout",
     "output_type": "stream",
     "text": [
      " Iter:   6 SS: 6    E:  -18.32972854   R: 1.2e-04   LinDep: 0.0e+00* \n"
     ]
    },
    {
     "name": "stdout",
     "output_type": "stream",
     "text": [
      " Iter:   7 SS: 7    E:  -18.32972855   R: 3.7e-05   LinDep: 7.8e-16* \n"
     ]
    },
    {
     "name": "stdout",
     "output_type": "stream",
     "text": [
      " Iter:   8 SS: 8    E:  -18.32972855   R: 1.2e-05   LinDep: 2.1e-15* \n"
     ]
    },
    {
     "name": "stdout",
     "output_type": "stream",
     "text": [
      " Iter:   9 SS: 9    E:  -18.32972855*  R: 3.6e-06*  LinDep: 1.9e-15* \n"
     ]
    },
    {
     "name": "stdout",
     "output_type": "stream",
     "text": [
      " Diagonalization time:                               1.127018 seconds\n",
      " Compute <S^2>:                                    "
     ]
    },
    {
     "name": "stdout",
     "output_type": "stream",
     "text": [
      "  0.027726 seconds (250.70 k allocations: 16.227 MiB)\n"
     ]
    },
    {
     "name": "stdout",
     "output_type": "stream",
     "text": [
      "  Root       Energy           S2\n",
      "     1 -18.32972855   0.00006979\n",
      " ==================================================================|\n",
      " Compute <S^2>:                                    "
     ]
    },
    {
     "name": "stdout",
     "output_type": "stream",
     "text": [
      "  0.027429 seconds (250.86 k allocations: 16.231 MiB)\n",
      " E(Reference):       -18.32641459 \n",
      " E(PT2):             -18.32789328 \n",
      " E(BST):             -18.32972855 \n",
      "\n",
      "\n",
      "\n",
      "\n",
      " ===================================================================\n",
      "     BST Iteration:    4 epsilon:   0.01000000\n",
      " ===================================================================\n",
      " Ref state compressed from:                               195 → 41         (thresh =  1.0e-02)\n",
      " Compute zeroth-order energy:                      "
     ]
    },
    {
     "name": "stdout",
     "output_type": "stream",
     "text": [
      "  0.051935 seconds (439.43 k allocations: 32.659 MiB)\n",
      " Compute <S^2>:                                    "
     ]
    },
    {
     "name": "stdout",
     "output_type": "stream",
     "text": [
      "  0.006377 seconds (49.51 k allocations: 3.533 MiB)\n",
      "  Root       Energy           S2\n",
      "     1 -18.32640350   0.00002686\n"
     ]
    },
    {
     "name": "stdout",
     "output_type": "stream",
     "text": [
      "\n",
      " Compute FOIS. Reference space dim:                        41\n",
      " Number of tasks:                                         661\n",
      " Compute tasks:                                    \n"
     ]
    },
    {
     "name": "stdout",
     "output_type": "stream",
     "text": [
      " Time building compressed vector:                    1.960826 seconds   1.28e+00 Gb GC: 6.1e-01 sec\n"
     ]
    },
    {
     "name": "stdout",
     "output_type": "stream",
     "text": [
      " Add results together:                               0.264839 seconds   1.78e-01 Gb GC: 0.0e+00 sec\n"
     ]
    },
    {
     "name": "stdout",
     "output_type": "stream",
     "text": [
      " Total time spent building FOIS:                     2.227850 seconds\n",
      " FOIS compressed from:                                  97528 → 37028      (thresh =  1.0e-06)\n",
      "     1   7.48148285\n"
     ]
    },
    {
     "name": "stdout",
     "output_type": "stream",
     "text": [
      "\n",
      " PT vector reference space dim:                            41\n",
      " Length of input      FOIS:                             37028\n"
     ]
    },
    {
     "name": "stdout",
     "output_type": "stream",
     "text": [
      " Compute <X|V|0>:                                    0.683418 seconds   3.69e-01 Gb\n"
     ]
    },
    {
     "name": "stdout",
     "output_type": "stream",
     "text": [
      "  Root      <0|H|0>      <0|F|0>\n",
      "     1 -18.32640350 -10.80050486\n"
     ]
    },
    {
     "name": "stdout",
     "output_type": "stream",
     "text": [
      " Compute <X|F|0>:                                    0.005668 seconds   4.66e-03 Gb\n"
     ]
    },
    {
     "name": "stdout",
     "output_type": "stream",
     "text": [
      " Cache zeroth-order Hamiltonian:                     0.049767 seconds   7.77e-02 Gb\n"
     ]
    },
    {
     "name": "stdout",
     "output_type": "stream",
     "text": [
      "  1\t4.56e-02\n"
     ]
    },
    {
     "name": "stdout",
     "output_type": "stream",
     "text": [
      "  2\t2.44e-02\n"
     ]
    },
    {
     "name": "stdout",
     "output_type": "stream",
     "text": [
      "  3\t2.24e-02\n"
     ]
    },
    {
     "name": "stdout",
     "output_type": "stream",
     "text": [
      "  4\t2.81e-02\n"
     ]
    },
    {
     "name": "stdout",
     "output_type": "stream",
     "text": [
      "  5\t5.19e-02\n"
     ]
    },
    {
     "name": "stdout",
     "output_type": "stream",
     "text": [
      "  6\t2.34e-01\n"
     ]
    },
    {
     "name": "stdout",
     "output_type": "stream",
     "text": [
      "  7\t1.40e-01\n"
     ]
    },
    {
     "name": "stdout",
     "output_type": "stream",
     "text": [
      "  8\t5.44e-02\n"
     ]
    },
    {
     "name": "stdout",
     "output_type": "stream",
     "text": [
      "  9\t2.44e-02\n"
     ]
    },
    {
     "name": "stdout",
     "output_type": "stream",
     "text": [
      " 10\t1.00e-02\n"
     ]
    },
    {
     "name": "stdout",
     "output_type": "stream",
     "text": [
      " 11\t4.42e-03\n"
     ]
    },
    {
     "name": "stdout",
     "output_type": "stream",
     "text": [
      " 12\t1.77e-03\n"
     ]
    },
    {
     "name": "stdout",
     "output_type": "stream",
     "text": [
      " 13\t5.83e-04\n"
     ]
    },
    {
     "name": "stdout",
     "output_type": "stream",
     "text": [
      " 14\t2.41e-04\n"
     ]
    },
    {
     "name": "stdout",
     "output_type": "stream",
     "text": [
      " 15\t1.24e-04\n"
     ]
    },
    {
     "name": "stdout",
     "output_type": "stream",
     "text": [
      " 16\t6.34e-05\n"
     ]
    },
    {
     "name": "stdout",
     "output_type": "stream",
     "text": [
      " 17\t3.31e-05\n"
     ]
    },
    {
     "name": "stdout",
     "output_type": "stream",
     "text": [
      " 18\t1.62e-05\n"
     ]
    },
    {
     "name": "stdout",
     "output_type": "stream",
     "text": [
      " 19\t7.23e-06\n",
      "\n",
      " Time to solve for PT1 with conjugate gradient:      4.689508 seconds   3.25e+00 Gb\n"
     ]
    },
    {
     "name": "stdout",
     "output_type": "stream",
     "text": [
      " Compute <0|H|1>:                                    0.634277 seconds   4.08e-01 Gb\n",
      " SxC[r]   0.96395554 SxSx   0.99999447\n",
      " State   1: E(PT2) corr:                          -0.00147664\n",
      " State   1: E(PT2):                              -18.32788014\n",
      " Time spent compute PT1 vector:                      6.198035 seconds\n",
      " PT compressed from:                               "
     ]
    },
    {
     "name": "stdout",
     "output_type": "stream",
     "text": [
      "     37028 → 195        (thresh =  1.0e-03)\n",
      " Overlap between <1|0>:                            0.96395554 \n",
      "\n",
      " Variational space compressed from:                       241 → 195        (thresh =  1.0e-03)\n",
      " Add new space to variational space:                 0.003323 seconds\n",
      " Solve in compressed FOIS:                         \n",
      " |== BST CI ========================================================\n",
      " Solve CI with # variables:                               195\n",
      " Cache Hamiltonian:                                "
     ]
    },
    {
     "name": "stdout",
     "output_type": "stream",
     "text": [
      "  0.291445 seconds (2.17 M allocations: 185.822 MiB)\n"
     ]
    },
    {
     "name": "stdout",
     "output_type": "stream",
     "text": [
      " Iter:   1 SS: 1    E:  -18.32860939   R: 4.3e-02   LinDep: 0.0e+00* \n"
     ]
    },
    {
     "name": "stdout",
     "output_type": "stream",
     "text": [
      " Iter:   2 SS: 2    E:  -18.32965888   R: 8.9e-03   LinDep: 4.4e-16* \n"
     ]
    },
    {
     "name": "stdout",
     "output_type": "stream",
     "text": [
      " Iter:   3 SS: 3    E:  -18.32970849   R: 2.4e-03   LinDep: 4.4e-16* \n"
     ]
    },
    {
     "name": "stdout",
     "output_type": "stream",
     "text": [
      " Iter:   4 SS: 4    E:  -18.32971222   R: 9.2e-04   LinDep: 2.2e-16* \n"
     ]
    },
    {
     "name": "stdout",
     "output_type": "stream",
     "text": [
      " Iter:   5 SS: 5    E:  -18.32971283   R: 2.8e-04   LinDep: 6.7e-16* \n"
     ]
    },
    {
     "name": "stdout",
     "output_type": "stream",
     "text": [
      " Iter:   6 SS: 6    E:  -18.32971291   R: 1.2e-04   LinDep: 1.1e-15* \n"
     ]
    },
    {
     "name": "stdout",
     "output_type": "stream",
     "text": [
      " Iter:   7 SS: 7    E:  -18.32971292   R: 3.7e-05   LinDep: 2.9e-15* \n"
     ]
    },
    {
     "name": "stdout",
     "output_type": "stream",
     "text": [
      " Iter:   8 SS: 8    E:  -18.32971292   R: 1.2e-05   LinDep: 2.0e-15* \n"
     ]
    },
    {
     "name": "stdout",
     "output_type": "stream",
     "text": [
      " Iter:   9 SS: 9    E:  -18.32971292*  R: 3.6e-06*  LinDep: 6.7e-16* \n"
     ]
    },
    {
     "name": "stdout",
     "output_type": "stream",
     "text": [
      " Diagonalization time:                               1.164949 seconds\n",
      " Compute <S^2>:                                    "
     ]
    },
    {
     "name": "stdout",
     "output_type": "stream",
     "text": [
      "  0.027605 seconds (250.41 k allocations: 16.210 MiB)\n"
     ]
    },
    {
     "name": "stdout",
     "output_type": "stream",
     "text": [
      "  Root       Energy           S2\n",
      "     1 -18.32971292   0.00007397\n",
      " ==================================================================|\n",
      " Compute <S^2>:                                    "
     ]
    },
    {
     "name": "stdout",
     "output_type": "stream",
     "text": [
      "  0.027685 seconds (250.26 k allocations: 16.204 MiB)\n",
      " E(Reference):       -18.32640350 \n",
      " E(PT2):             -18.32788014 \n",
      " E(BST):             -18.32971292 \n",
      "\n",
      "\n",
      "\n",
      "\n",
      " ===================================================================\n",
      "     BST Iteration:    5 epsilon:   0.01000000\n",
      " ===================================================================\n",
      " Ref state compressed from:                               195 → 41         (thresh =  1.0e-02)\n",
      " Compute zeroth-order energy:                      "
     ]
    },
    {
     "name": "stdout",
     "output_type": "stream",
     "text": [
      "  0.051406 seconds (438.65 k allocations: 32.654 MiB)\n",
      " Compute <S^2>:                                    "
     ]
    },
    {
     "name": "stdout",
     "output_type": "stream",
     "text": [
      "  0.006280 seconds (49.68 k allocations: 3.543 MiB)\n",
      "  Root       Energy           S2\n",
      "     1 -18.32638696   0.00003071\n"
     ]
    },
    {
     "name": "stdout",
     "output_type": "stream",
     "text": [
      "\n",
      " Compute FOIS. Reference space dim:                        41\n",
      " Number of tasks:                                         661\n",
      " Compute tasks:                                    \n"
     ]
    },
    {
     "name": "stdout",
     "output_type": "stream",
     "text": [
      " Time building compressed vector:                    1.311968 seconds   1.28e+00 Gb GC: 0.0e+00 sec\n"
     ]
    },
    {
     "name": "stdout",
     "output_type": "stream",
     "text": [
      " Add results together:                               0.922321 seconds   1.78e-01 Gb GC: 6.4e-01 sec\n"
     ]
    },
    {
     "name": "stdout",
     "output_type": "stream",
     "text": [
      " Total time spent building FOIS:                     2.235142 seconds\n",
      " FOIS compressed from:                                  97492 → 37028      (thresh =  1.0e-06)\n",
      "     1   7.48153445\n",
      "\n",
      " PT vector reference space dim:                            41\n"
     ]
    },
    {
     "name": "stdout",
     "output_type": "stream",
     "text": [
      " Length of input      FOIS:                             37028\n"
     ]
    },
    {
     "name": "stdout",
     "output_type": "stream",
     "text": [
      " Compute <X|V|0>:                                    0.685691 seconds   3.70e-01 Gb\n"
     ]
    },
    {
     "name": "stdout",
     "output_type": "stream",
     "text": [
      "  Root      <0|H|0>      <0|F|0>\n",
      "     1 -18.32638696 -10.80052965\n"
     ]
    },
    {
     "name": "stdout",
     "output_type": "stream",
     "text": [
      " Compute <X|F|0>:                                    0.006700 seconds   4.66e-03 Gb\n"
     ]
    },
    {
     "name": "stdout",
     "output_type": "stream",
     "text": [
      " Cache zeroth-order Hamiltonian:                     0.050761 seconds   7.28e-02 Gb\n"
     ]
    },
    {
     "name": "stdout",
     "output_type": "stream",
     "text": [
      "  1\t4.56e-02\n"
     ]
    },
    {
     "name": "stdout",
     "output_type": "stream",
     "text": [
      "  2\t2.44e-02\n"
     ]
    },
    {
     "name": "stdout",
     "output_type": "stream",
     "text": [
      "  3\t2.24e-02\n"
     ]
    },
    {
     "name": "stdout",
     "output_type": "stream",
     "text": [
      "  4\t2.80e-02\n"
     ]
    },
    {
     "name": "stdout",
     "output_type": "stream",
     "text": [
      "  5\t5.18e-02\n"
     ]
    },
    {
     "name": "stdout",
     "output_type": "stream",
     "text": [
      "  6\t2.34e-01\n"
     ]
    },
    {
     "name": "stdout",
     "output_type": "stream",
     "text": [
      "  7\t1.40e-01\n"
     ]
    },
    {
     "name": "stdout",
     "output_type": "stream",
     "text": [
      "  8\t5.42e-02\n"
     ]
    },
    {
     "name": "stdout",
     "output_type": "stream",
     "text": [
      "  9\t2.42e-02\n"
     ]
    },
    {
     "name": "stdout",
     "output_type": "stream",
     "text": [
      " 10\t1.00e-02\n"
     ]
    },
    {
     "name": "stdout",
     "output_type": "stream",
     "text": [
      " 11\t4.43e-03\n"
     ]
    },
    {
     "name": "stdout",
     "output_type": "stream",
     "text": [
      " 12\t1.77e-03\n"
     ]
    },
    {
     "name": "stdout",
     "output_type": "stream",
     "text": [
      " 13\t5.86e-04\n"
     ]
    },
    {
     "name": "stdout",
     "output_type": "stream",
     "text": [
      " 14\t2.45e-04\n"
     ]
    },
    {
     "name": "stdout",
     "output_type": "stream",
     "text": [
      " 15\t1.27e-04\n"
     ]
    },
    {
     "name": "stdout",
     "output_type": "stream",
     "text": [
      " 16\t6.46e-05\n"
     ]
    },
    {
     "name": "stdout",
     "output_type": "stream",
     "text": [
      " 17\t3.35e-05\n"
     ]
    },
    {
     "name": "stdout",
     "output_type": "stream",
     "text": [
      " 18\t1.64e-05\n"
     ]
    },
    {
     "name": "stdout",
     "output_type": "stream",
     "text": [
      " 19\t7.34e-06\n",
      "\n",
      " Time to solve for PT1 with conjugate gradient:      4.821439 seconds   3.25e+00 Gb\n"
     ]
    },
    {
     "name": "stdout",
     "output_type": "stream",
     "text": [
      " Compute <0|H|1>:                                    0.644073 seconds   4.10e-01 Gb\n",
      " SxC[r]   0.96385065 SxSx   0.99999328\n",
      " State   1: E(PT2) corr:                          -0.00147388\n",
      " State   1: E(PT2):                              -18.32786084\n",
      " Time spent compute PT1 vector:                      6.350032 seconds\n",
      " PT compressed from:                               "
     ]
    },
    {
     "name": "stdout",
     "output_type": "stream",
     "text": [
      "     37028 → 195        (thresh =  1.0e-03)\n",
      " Overlap between <1|0>:                            0.96385065 \n",
      "\n",
      " Variational space compressed from:                       241 → 195        (thresh =  1.0e-03)\n",
      " Add new space to variational space:                 0.003341 seconds\n",
      " Solve in compressed FOIS:                         \n",
      " |== BST CI ========================================================\n",
      " Solve CI with # variables:                               195\n",
      " Cache Hamiltonian:                                "
     ]
    },
    {
     "name": "stdout",
     "output_type": "stream",
     "text": [
      "  0.295848 seconds (2.18 M allocations: 187.109 MiB)\n"
     ]
    },
    {
     "name": "stdout",
     "output_type": "stream",
     "text": [
      " Iter:   1 SS: 1    E:  -18.32858664   R: 4.3e-02   LinDep: 1.1e-16* \n"
     ]
    },
    {
     "name": "stdout",
     "output_type": "stream",
     "text": [
      " Iter:   2 SS: 2    E:  -18.32963622   R: 8.9e-03   LinDep: 1.1e-16* \n"
     ]
    },
    {
     "name": "stdout",
     "output_type": "stream",
     "text": [
      " Iter:   3 SS: 3    E:  -18.32968580   R: 2.4e-03   LinDep: 2.2e-16* \n"
     ]
    },
    {
     "name": "stdout",
     "output_type": "stream",
     "text": [
      " Iter:   4 SS: 4    E:  -18.32968952   R: 9.1e-04   LinDep: 1.6e-15* \n"
     ]
    },
    {
     "name": "stdout",
     "output_type": "stream",
     "text": [
      " Iter:   5 SS: 5    E:  -18.32969013   R: 2.7e-04   LinDep: 2.2e-16* \n"
     ]
    },
    {
     "name": "stdout",
     "output_type": "stream",
     "text": [
      " Iter:   6 SS: 6    E:  -18.32969020   R: 1.2e-04   LinDep: 1.8e-15* \n"
     ]
    },
    {
     "name": "stdout",
     "output_type": "stream",
     "text": [
      " Iter:   7 SS: 7    E:  -18.32969021   R: 3.7e-05   LinDep: 1.8e-15* \n"
     ]
    },
    {
     "name": "stdout",
     "output_type": "stream",
     "text": [
      " Iter:   8 SS: 8    E:  -18.32969021   R: 1.2e-05   LinDep: 2.8e-15* \n"
     ]
    },
    {
     "name": "stdout",
     "output_type": "stream",
     "text": [
      " Iter:   9 SS: 9    E:  -18.32969021*  R: 3.6e-06*  LinDep: 1.1e-15* \n"
     ]
    },
    {
     "name": "stdout",
     "output_type": "stream",
     "text": [
      " Diagonalization time:                               1.110815 seconds\n",
      " Compute <S^2>:                                    "
     ]
    },
    {
     "name": "stdout",
     "output_type": "stream",
     "text": [
      "  0.027028 seconds (251.48 k allocations: 16.266 MiB)\n"
     ]
    },
    {
     "name": "stdout",
     "output_type": "stream",
     "text": [
      "  Root       Energy           S2\n",
      "     1 -18.32969021   0.00007879\n",
      " ==================================================================|\n",
      " Compute <S^2>:                                    "
     ]
    },
    {
     "name": "stdout",
     "output_type": "stream",
     "text": [
      "  0.027473 seconds (251.19 k allocations: 16.247 MiB)\n",
      " E(Reference):       -18.32638696 \n",
      " E(PT2):             -18.32786084 \n",
      " E(BST):             -18.32969021 \n",
      "\n",
      "\n",
      "\n",
      "\n",
      " ===================================================================\n",
      "     BST Iteration:    6 epsilon:   0.01000000\n",
      " ===================================================================\n",
      " Ref state compressed from:                               195 → 41         (thresh =  1.0e-02)\n",
      " Compute zeroth-order energy:                      "
     ]
    },
    {
     "name": "stdout",
     "output_type": "stream",
     "text": [
      "  0.057746 seconds (441.31 k allocations: 32.766 MiB)\n",
      " Compute <S^2>:                                    "
     ]
    },
    {
     "name": "stdout",
     "output_type": "stream",
     "text": [
      "  0.006276 seconds (49.46 k allocations: 3.531 MiB)\n",
      "  Root       Energy           S2\n",
      "     1 -18.32636345   0.00003516\n"
     ]
    },
    {
     "name": "stdout",
     "output_type": "stream",
     "text": [
      "\n",
      " Compute FOIS. Reference space dim:                        41\n",
      " Number of tasks:                                         661\n",
      " Compute tasks:                                    \n"
     ]
    },
    {
     "name": "stdout",
     "output_type": "stream",
     "text": [
      " Time building compressed vector:                    1.289351 seconds   1.28e+00 Gb GC: 0.0e+00 sec\n"
     ]
    },
    {
     "name": "stdout",
     "output_type": "stream",
     "text": [
      " Add results together:                               0.280339 seconds   1.78e-01 Gb GC: 0.0e+00 sec\n"
     ]
    },
    {
     "name": "stdout",
     "output_type": "stream",
     "text": [
      " Total time spent building FOIS:                     1.570697 seconds\n",
      " FOIS compressed from:                             "
     ]
    },
    {
     "name": "stdout",
     "output_type": "stream",
     "text": [
      "     97516 → 36968      (thresh =  1.0e-06)\n",
      "     1   7.48160458\n",
      "\n",
      " PT vector reference space dim:                            41\n",
      " Length of input      FOIS:                             36968\n"
     ]
    },
    {
     "name": "stdout",
     "output_type": "stream",
     "text": [
      " Compute <X|V|0>:                                    0.702009 seconds   3.69e-01 Gb\n"
     ]
    },
    {
     "name": "stdout",
     "output_type": "stream",
     "text": [
      "  Root      <0|H|0>      <0|F|0>\n",
      "     1 -18.32636345 -10.80056507\n"
     ]
    },
    {
     "name": "stdout",
     "output_type": "stream",
     "text": [
      " Compute <X|F|0>:                                    0.005673 seconds   4.65e-03 Gb\n"
     ]
    },
    {
     "name": "stdout",
     "output_type": "stream",
     "text": [
      " Cache zeroth-order Hamiltonian:                     0.047300 seconds   7.27e-02 Gb\n"
     ]
    },
    {
     "name": "stdout",
     "output_type": "stream",
     "text": [
      "  1\t4.55e-02\n"
     ]
    },
    {
     "name": "stdout",
     "output_type": "stream",
     "text": [
      "  2\t2.43e-02\n"
     ]
    },
    {
     "name": "stdout",
     "output_type": "stream",
     "text": [
      "  3\t2.23e-02\n"
     ]
    },
    {
     "name": "stdout",
     "output_type": "stream",
     "text": [
      "  4\t2.80e-02\n"
     ]
    },
    {
     "name": "stdout",
     "output_type": "stream",
     "text": [
      "  5\t5.17e-02\n"
     ]
    },
    {
     "name": "stdout",
     "output_type": "stream",
     "text": [
      "  6\t2.33e-01\n"
     ]
    },
    {
     "name": "stdout",
     "output_type": "stream",
     "text": [
      "  7\t1.39e-01\n"
     ]
    },
    {
     "name": "stdout",
     "output_type": "stream",
     "text": [
      "  8\t5.39e-02\n"
     ]
    },
    {
     "name": "stdout",
     "output_type": "stream",
     "text": [
      "  9\t2.41e-02\n"
     ]
    },
    {
     "name": "stdout",
     "output_type": "stream",
     "text": [
      " 10\t1.00e-02\n"
     ]
    },
    {
     "name": "stdout",
     "output_type": "stream",
     "text": [
      " 11\t4.44e-03\n"
     ]
    },
    {
     "name": "stdout",
     "output_type": "stream",
     "text": [
      " 12\t1.77e-03\n"
     ]
    },
    {
     "name": "stdout",
     "output_type": "stream",
     "text": [
      " 13\t5.89e-04\n"
     ]
    },
    {
     "name": "stdout",
     "output_type": "stream",
     "text": [
      " 14\t2.50e-04\n"
     ]
    },
    {
     "name": "stdout",
     "output_type": "stream",
     "text": [
      " 15\t1.31e-04\n"
     ]
    },
    {
     "name": "stdout",
     "output_type": "stream",
     "text": [
      " 16\t6.61e-05\n"
     ]
    },
    {
     "name": "stdout",
     "output_type": "stream",
     "text": [
      " 17\t3.40e-05\n"
     ]
    },
    {
     "name": "stdout",
     "output_type": "stream",
     "text": [
      " 18\t1.66e-05\n"
     ]
    },
    {
     "name": "stdout",
     "output_type": "stream",
     "text": [
      " 19\t7.44e-06\n",
      "\n",
      " Time to solve for PT1 with conjugate gradient:      4.794904 seconds   3.24e+00 Gb\n"
     ]
    },
    {
     "name": "stdout",
     "output_type": "stream",
     "text": [
      " Compute <0|H|1>:                                    0.659551 seconds   4.11e-01 Gb\n",
      " SxC[r]   0.96373015 SxSx   0.99999184\n",
      " State   1: E(PT2) corr:                          -0.00147023\n",
      " State   1: E(PT2):                              -18.32783367\n",
      " Time spent compute PT1 vector:                      6.342606 seconds\n",
      " PT compressed from:                                    36968 → 195        (thresh =  1.0e-03)\n",
      " Overlap between <1|0>:                            0.96373015 \n",
      "\n",
      " Variational space compressed from:                       241 → 195        (thresh =  1.0e-03)\n",
      " Add new space to variational space:                 0.003097 seconds\n",
      " Solve in compressed FOIS:                         \n",
      " |== BST CI ========================================================\n",
      " Solve CI with # variables:                               195\n",
      " Cache Hamiltonian:                                "
     ]
    },
    {
     "name": "stdout",
     "output_type": "stream",
     "text": [
      "  0.279245 seconds (2.17 M allocations: 185.996 MiB)\n"
     ]
    },
    {
     "name": "stdout",
     "output_type": "stream",
     "text": [
      " Iter:   1 SS: 1    E:  -18.32855504   R: 4.3e-02   LinDep: 0.0e+00* \n"
     ]
    },
    {
     "name": "stdout",
     "output_type": "stream",
     "text": [
      " Iter:   2 SS: 2    E:  -18.32960461   R: 8.9e-03   LinDep: 2.2e-16* \n"
     ]
    },
    {
     "name": "stdout",
     "output_type": "stream",
     "text": [
      " Iter:   3 SS: 3    E:  -18.32965415   R: 2.4e-03   LinDep: 6.7e-16* \n"
     ]
    },
    {
     "name": "stdout",
     "output_type": "stream",
     "text": [
      " Iter:   4 SS: 4    E:  -18.32965785   R: 9.1e-04   LinDep: 1.1e-16* \n"
     ]
    },
    {
     "name": "stdout",
     "output_type": "stream",
     "text": [
      " Iter:   5 SS: 5    E:  -18.32965845   R: 2.7e-04   LinDep: 2.6e-15* \n"
     ]
    },
    {
     "name": "stdout",
     "output_type": "stream",
     "text": [
      " Iter:   6 SS: 6    E:  -18.32965852   R: 1.2e-04   LinDep: 1.1e-16* \n"
     ]
    },
    {
     "name": "stdout",
     "output_type": "stream",
     "text": [
      " Iter:   7 SS: 7    E:  -18.32965853   R: 3.7e-05   LinDep: 6.7e-16* \n"
     ]
    },
    {
     "name": "stdout",
     "output_type": "stream",
     "text": [
      " Iter:   8 SS: 8    E:  -18.32965853   R: 1.2e-05   LinDep: 0.0e+00* \n"
     ]
    },
    {
     "name": "stdout",
     "output_type": "stream",
     "text": [
      " Iter:   9 SS: 9    E:  -18.32965853*  R: 3.6e-06*  LinDep: 4.4e-16* \n"
     ]
    },
    {
     "name": "stdout",
     "output_type": "stream",
     "text": [
      " Diagonalization time:                               1.129278 seconds\n",
      " Compute <S^2>:                                    "
     ]
    },
    {
     "name": "stdout",
     "output_type": "stream",
     "text": [
      "  0.029966 seconds (251.55 k allocations: 16.278 MiB)\n"
     ]
    },
    {
     "name": "stdout",
     "output_type": "stream",
     "text": [
      "  Root       Energy           S2\n",
      "     1 -18.32965853   0.00008435\n",
      " ==================================================================|\n",
      " Compute <S^2>:                                    "
     ]
    },
    {
     "name": "stdout",
     "output_type": "stream",
     "text": [
      "  0.027661 seconds (250.75 k allocations: 16.234 MiB)\n",
      " E(Reference):       -18.32636345 \n",
      " E(PT2):             -18.32783367 \n",
      " E(BST):             -18.32965853 \n",
      "\n",
      "\n",
      "\n",
      "\n",
      " ===================================================================\n",
      "     BST Iteration:    7 epsilon:   0.01000000\n",
      " ===================================================================\n",
      " Ref state compressed from:                               195 → 41         (thresh =  1.0e-02)\n",
      " Compute zeroth-order energy:                      "
     ]
    },
    {
     "name": "stdout",
     "output_type": "stream",
     "text": [
      "  0.064695 seconds (440.36 k allocations: 32.723 MiB)\n",
      " Compute <S^2>:                                    "
     ]
    },
    {
     "name": "stdout",
     "output_type": "stream",
     "text": [
      "  0.006648 seconds (49.49 k allocations: 3.533 MiB)\n",
      "  Root       Energy           S2\n",
      "     1 -18.32633112   0.00004033\n"
     ]
    },
    {
     "name": "stdout",
     "output_type": "stream",
     "text": [
      "\n",
      " Compute FOIS. Reference space dim:                        41\n",
      " Number of tasks:                                         661\n",
      " Compute tasks:                                    \n"
     ]
    },
    {
     "name": "stdout",
     "output_type": "stream",
     "text": [
      " Time building compressed vector:                    1.286208 seconds   1.28e+00 Gb GC: 0.0e+00 sec\n"
     ]
    },
    {
     "name": "stdout",
     "output_type": "stream",
     "text": [
      " Add results together:                               0.292272 seconds   1.78e-01 Gb GC: 0.0e+00 sec\n"
     ]
    },
    {
     "name": "stdout",
     "output_type": "stream",
     "text": [
      " Total time spent building FOIS:                     1.581607 seconds\n",
      " FOIS compressed from:                             "
     ]
    },
    {
     "name": "stdout",
     "output_type": "stream",
     "text": [
      "     97492 → 36888      (thresh =  1.0e-06)\n",
      "     1   7.48169791\n",
      "\n",
      " PT vector reference space dim:                            41\n",
      " Length of input      FOIS:                             36888\n"
     ]
    },
    {
     "name": "stdout",
     "output_type": "stream",
     "text": [
      " Compute <X|V|0>:                                    0.699602 seconds   3.69e-01 Gb\n"
     ]
    },
    {
     "name": "stdout",
     "output_type": "stream",
     "text": [
      "  Root      <0|H|0>      <0|F|0>\n",
      "     1 -18.32633112 -10.80061386\n"
     ]
    },
    {
     "name": "stdout",
     "output_type": "stream",
     "text": [
      " Compute <X|F|0>:                                    0.005536 seconds   4.65e-03 Gb\n"
     ]
    },
    {
     "name": "stdout",
     "output_type": "stream",
     "text": [
      " Cache zeroth-order Hamiltonian:                     0.675021 seconds   7.27e-02 Gb\n"
     ]
    },
    {
     "name": "stdout",
     "output_type": "stream",
     "text": [
      "  1\t4.54e-02\n"
     ]
    },
    {
     "name": "stdout",
     "output_type": "stream",
     "text": [
      "  2\t2.42e-02\n"
     ]
    },
    {
     "name": "stdout",
     "output_type": "stream",
     "text": [
      "  3\t2.22e-02\n"
     ]
    },
    {
     "name": "stdout",
     "output_type": "stream",
     "text": [
      "  4\t2.78e-02\n"
     ]
    },
    {
     "name": "stdout",
     "output_type": "stream",
     "text": [
      "  5\t5.14e-02\n"
     ]
    },
    {
     "name": "stdout",
     "output_type": "stream",
     "text": [
      "  6\t2.32e-01\n"
     ]
    },
    {
     "name": "stdout",
     "output_type": "stream",
     "text": [
      "  7\t1.39e-01\n"
     ]
    },
    {
     "name": "stdout",
     "output_type": "stream",
     "text": [
      "  8\t5.35e-02\n"
     ]
    },
    {
     "name": "stdout",
     "output_type": "stream",
     "text": [
      "  9\t2.39e-02\n"
     ]
    },
    {
     "name": "stdout",
     "output_type": "stream",
     "text": [
      " 10\t1.00e-02\n"
     ]
    },
    {
     "name": "stdout",
     "output_type": "stream",
     "text": [
      " 11\t4.43e-03\n"
     ]
    },
    {
     "name": "stdout",
     "output_type": "stream",
     "text": [
      " 12\t1.77e-03\n"
     ]
    },
    {
     "name": "stdout",
     "output_type": "stream",
     "text": [
      " 13\t5.93e-04\n"
     ]
    },
    {
     "name": "stdout",
     "output_type": "stream",
     "text": [
      " 14\t2.55e-04\n"
     ]
    },
    {
     "name": "stdout",
     "output_type": "stream",
     "text": [
      " 15\t1.35e-04\n"
     ]
    },
    {
     "name": "stdout",
     "output_type": "stream",
     "text": [
      " 16\t6.80e-05\n"
     ]
    },
    {
     "name": "stdout",
     "output_type": "stream",
     "text": [
      " 17\t3.47e-05\n"
     ]
    },
    {
     "name": "stdout",
     "output_type": "stream",
     "text": [
      " 18\t1.69e-05\n"
     ]
    },
    {
     "name": "stdout",
     "output_type": "stream",
     "text": [
      " 19\t7.54e-06\n",
      "\n",
      " Time to solve for PT1 with conjugate gradient:      4.165138 seconds   3.24e+00 Gb\n"
     ]
    },
    {
     "name": "stdout",
     "output_type": "stream",
     "text": [
      " Compute <0|H|1>:                                    0.627093 seconds   4.14e-01 Gb\n",
      " SxC[r]   0.96359151 SxSx   0.99999008\n",
      " State   1: E(PT2) corr:                          -0.00146548\n",
      " State   1: E(PT2):                              -18.32779659\n",
      " Time spent compute PT1 vector:                      6.305755 seconds\n",
      " PT compressed from:                               "
     ]
    },
    {
     "name": "stdout",
     "output_type": "stream",
     "text": [
      "     36888 → 195        (thresh =  1.0e-03)\n",
      " Overlap between <1|0>:                            0.96359151 \n",
      "\n",
      " Variational space compressed from:                       241 → 195        (thresh =  1.0e-03)\n",
      " Add new space to variational space:                 0.003401 seconds\n",
      " Solve in compressed FOIS:                         \n",
      " |== BST CI ========================================================\n",
      " Solve CI with # variables:                               195\n",
      " Cache Hamiltonian:                                "
     ]
    },
    {
     "name": "stdout",
     "output_type": "stream",
     "text": [
      "  0.270520 seconds (2.19 M allocations: 187.506 MiB)\n"
     ]
    },
    {
     "name": "stdout",
     "output_type": "stream",
     "text": [
      " Iter:   1 SS: 1    E:  -18.32851232   R: 4.3e-02   LinDep: 0.0e+00* \n"
     ]
    },
    {
     "name": "stdout",
     "output_type": "stream",
     "text": [
      " Iter:   2 SS: 2    E:  -18.32956173   R: 8.9e-03   LinDep: 1.1e-15* \n"
     ]
    },
    {
     "name": "stdout",
     "output_type": "stream",
     "text": [
      " Iter:   3 SS: 3    E:  -18.32961122   R: 2.4e-03   LinDep: 4.4e-16* \n"
     ]
    },
    {
     "name": "stdout",
     "output_type": "stream",
     "text": [
      " Iter:   4 SS: 4    E:  -18.32961490   R: 9.1e-04   LinDep: 0.0e+00* \n"
     ]
    },
    {
     "name": "stdout",
     "output_type": "stream",
     "text": [
      " Iter:   5 SS: 5    E:  -18.32961549   R: 2.7e-04   LinDep: 1.0e-15* \n"
     ]
    },
    {
     "name": "stdout",
     "output_type": "stream",
     "text": [
      " Iter:   6 SS: 6    E:  -18.32961556   R: 1.2e-04   LinDep: 1.0e-15* \n"
     ]
    },
    {
     "name": "stdout",
     "output_type": "stream",
     "text": [
      " Iter:   7 SS: 7    E:  -18.32961557   R: 3.7e-05   LinDep: 1.3e-15* \n"
     ]
    },
    {
     "name": "stdout",
     "output_type": "stream",
     "text": [
      " Iter:   8 SS: 8    E:  -18.32961557   R: 1.2e-05   LinDep: 2.3e-15* \n"
     ]
    },
    {
     "name": "stdout",
     "output_type": "stream",
     "text": [
      " Iter:   9 SS: 9    E:  -18.32961558*  R: 3.6e-06*  LinDep: 1.4e-15* \n"
     ]
    },
    {
     "name": "stdout",
     "output_type": "stream",
     "text": [
      " Diagonalization time:                               1.097380 seconds\n",
      " Compute <S^2>:                                    "
     ]
    },
    {
     "name": "stdout",
     "output_type": "stream",
     "text": [
      "  0.027562 seconds (250.80 k allocations: 16.231 MiB)\n"
     ]
    },
    {
     "name": "stdout",
     "output_type": "stream",
     "text": [
      "  Root       Energy           S2\n",
      "     1 -18.32961558   0.00009075\n",
      " ==================================================================|\n",
      " Compute <S^2>:                                    "
     ]
    },
    {
     "name": "stdout",
     "output_type": "stream",
     "text": [
      "  0.028169 seconds (251.49 k allocations: 16.261 MiB)\n",
      " E(Reference):       -18.32633112 \n",
      " E(PT2):             -18.32779659 \n",
      " E(BST):             -18.32961558 \n",
      "\n",
      "\n",
      "\n",
      "\n",
      " ===================================================================\n",
      "     BST Iteration:    8 epsilon:   0.01000000\n",
      " ===================================================================\n",
      " Ref state compressed from:                               195 → 41         (thresh =  1.0e-02)\n",
      " Compute zeroth-order energy:                      "
     ]
    },
    {
     "name": "stdout",
     "output_type": "stream",
     "text": [
      "  0.062711 seconds (440.25 k allocations: 32.750 MiB)\n",
      " Compute <S^2>:                                    "
     ]
    },
    {
     "name": "stdout",
     "output_type": "stream",
     "text": [
      "  0.006504 seconds (49.60 k allocations: 3.539 MiB)\n",
      "  Root       Energy           S2\n",
      "     1 -18.32628771   0.00004630\n"
     ]
    },
    {
     "name": "stdout",
     "output_type": "stream",
     "text": [
      "\n",
      " Compute FOIS. Reference space dim:                        41\n",
      " Number of tasks:                                         661\n",
      " Compute tasks:                                    \n"
     ]
    },
    {
     "name": "stdout",
     "output_type": "stream",
     "text": [
      " Time building compressed vector:                    1.386336 seconds   1.28e+00 Gb GC: 0.0e+00 sec\n"
     ]
    },
    {
     "name": "stdout",
     "output_type": "stream",
     "text": [
      " Add results together:                               0.258121 seconds   1.78e-01 Gb GC: 0.0e+00 sec\n"
     ]
    },
    {
     "name": "stdout",
     "output_type": "stream",
     "text": [
      " Total time spent building FOIS:                     1.645487 seconds\n",
      " FOIS compressed from:                                  97244 → 36948      (thresh =  1.0e-06)\n",
      "     1   7.48182002\n",
      "\n",
      " PT vector reference space dim:                            41\n"
     ]
    },
    {
     "name": "stdout",
     "output_type": "stream",
     "text": [
      " Length of input      FOIS:                             36948\n"
     ]
    },
    {
     "name": "stdout",
     "output_type": "stream",
     "text": [
      " Compute <X|V|0>:                                    0.687554 seconds   3.70e-01 Gb\n"
     ]
    },
    {
     "name": "stdout",
     "output_type": "stream",
     "text": [
      "  Root      <0|H|0>      <0|F|0>\n",
      "     1 -18.32628771 -10.80067929\n"
     ]
    },
    {
     "name": "stdout",
     "output_type": "stream",
     "text": [
      " Compute <X|F|0>:                                    0.005433 seconds   4.64e-03 Gb\n"
     ]
    },
    {
     "name": "stdout",
     "output_type": "stream",
     "text": [
      " Cache zeroth-order Hamiltonian:                     0.053687 seconds   7.75e-02 Gb\n"
     ]
    },
    {
     "name": "stdout",
     "output_type": "stream",
     "text": [
      "  1\t4.53e-02\n"
     ]
    },
    {
     "name": "stdout",
     "output_type": "stream",
     "text": [
      "  2\t2.41e-02\n"
     ]
    },
    {
     "name": "stdout",
     "output_type": "stream",
     "text": [
      "  3\t2.21e-02\n"
     ]
    },
    {
     "name": "stdout",
     "output_type": "stream",
     "text": [
      "  4\t2.77e-02\n"
     ]
    },
    {
     "name": "stdout",
     "output_type": "stream",
     "text": [
      "  5\t5.11e-02\n"
     ]
    },
    {
     "name": "stdout",
     "output_type": "stream",
     "text": [
      "  6\t2.30e-01\n"
     ]
    },
    {
     "name": "stdout",
     "output_type": "stream",
     "text": [
      "  7\t1.39e-01\n"
     ]
    },
    {
     "name": "stdout",
     "output_type": "stream",
     "text": [
      "  8\t5.31e-02\n"
     ]
    },
    {
     "name": "stdout",
     "output_type": "stream",
     "text": [
      "  9\t2.36e-02\n"
     ]
    },
    {
     "name": "stdout",
     "output_type": "stream",
     "text": [
      " 10\t9.96e-03\n"
     ]
    },
    {
     "name": "stdout",
     "output_type": "stream",
     "text": [
      " 11\t4.42e-03\n"
     ]
    },
    {
     "name": "stdout",
     "output_type": "stream",
     "text": [
      " 12\t1.77e-03\n"
     ]
    },
    {
     "name": "stdout",
     "output_type": "stream",
     "text": [
      " 13\t5.95e-04\n"
     ]
    },
    {
     "name": "stdout",
     "output_type": "stream",
     "text": [
      " 14\t2.62e-04\n"
     ]
    },
    {
     "name": "stdout",
     "output_type": "stream",
     "text": [
      " 15\t1.40e-04\n"
     ]
    },
    {
     "name": "stdout",
     "output_type": "stream",
     "text": [
      " 16\t7.05e-05\n"
     ]
    },
    {
     "name": "stdout",
     "output_type": "stream",
     "text": [
      " 17\t3.55e-05\n"
     ]
    },
    {
     "name": "stdout",
     "output_type": "stream",
     "text": [
      " 18\t1.72e-05\n"
     ]
    },
    {
     "name": "stdout",
     "output_type": "stream",
     "text": [
      " 19\t7.64e-06\n",
      "\n",
      " Time to solve for PT1 with conjugate gradient:      5.172528 seconds   3.23e+00 Gb\n"
     ]
    },
    {
     "name": "stdout",
     "output_type": "stream",
     "text": [
      " Compute <0|H|1>:                                    0.786123 seconds   4.12e-01 Gb\n",
      " SxC[r]   0.96343136 SxSx   0.99998796\n",
      " State   1: E(PT2) corr:                          -0.00145941\n",
      " State   1: E(PT2):                              -18.32774711\n",
      " Time spent compute PT1 vector:                      6.835498 seconds\n",
      " PT compressed from:                               "
     ]
    },
    {
     "name": "stdout",
     "output_type": "stream",
     "text": [
      "     36948 → 195        (thresh =  1.0e-03)\n",
      " Overlap between <1|0>:                            0.96343136 \n",
      "\n",
      " Variational space compressed from:                       241 → 195        (thresh =  1.0e-03)\n",
      " Add new space to variational space:                 0.003554 seconds\n",
      " Solve in compressed FOIS:                         \n",
      " |== BST CI ========================================================\n",
      " Solve CI with # variables:                               195\n",
      " Cache Hamiltonian:                                "
     ]
    },
    {
     "name": "stdout",
     "output_type": "stream",
     "text": [
      "  0.272522 seconds (2.20 M allocations: 187.688 MiB)\n"
     ]
    },
    {
     "name": "stdout",
     "output_type": "stream",
     "text": [
      " Iter:   1 SS: 1    E:  -18.32845577   R: 4.3e-02   LinDep: 4.4e-16* \n"
     ]
    },
    {
     "name": "stdout",
     "output_type": "stream",
     "text": [
      " Iter:   2 SS: 2    E:  -18.32950483   R: 8.9e-03   LinDep: 0.0e+00* \n"
     ]
    },
    {
     "name": "stdout",
     "output_type": "stream",
     "text": [
      " Iter:   3 SS: 3    E:  -18.32955425   R: 2.4e-03   LinDep: 7.8e-16* \n"
     ]
    },
    {
     "name": "stdout",
     "output_type": "stream",
     "text": [
      " Iter:   4 SS: 4    E:  -18.32955790   R: 9.0e-04   LinDep: 3.3e-16* \n"
     ]
    },
    {
     "name": "stdout",
     "output_type": "stream",
     "text": [
      " Iter:   5 SS: 5    E:  -18.32955849   R: 2.7e-04   LinDep: 2.3e-15* \n"
     ]
    },
    {
     "name": "stdout",
     "output_type": "stream",
     "text": [
      " Iter:   6 SS: 6    E:  -18.32955856   R: 1.2e-04   LinDep: 6.7e-16* \n"
     ]
    },
    {
     "name": "stdout",
     "output_type": "stream",
     "text": [
      " Iter:   7 SS: 7    E:  -18.32955857   R: 3.7e-05   LinDep: 6.7e-16* \n"
     ]
    },
    {
     "name": "stdout",
     "output_type": "stream",
     "text": [
      " Iter:   8 SS: 8    E:  -18.32955857   R: 1.2e-05   LinDep: 2.2e-15* \n"
     ]
    },
    {
     "name": "stdout",
     "output_type": "stream",
     "text": [
      " Iter:   9 SS: 9    E:  -18.32955857*  R: 3.6e-06*  LinDep: 1.3e-15* \n"
     ]
    },
    {
     "name": "stdout",
     "output_type": "stream",
     "text": [
      " Diagonalization time:                               2.305149 seconds\n",
      " Compute <S^2>:                                    "
     ]
    },
    {
     "name": "stdout",
     "output_type": "stream",
     "text": [
      "  0.027299 seconds (250.85 k allocations: 16.237 MiB)\n"
     ]
    },
    {
     "name": "stdout",
     "output_type": "stream",
     "text": [
      "  Root       Energy           S2\n",
      "     1 -18.32955857   0.00009809\n",
      " ==================================================================|\n",
      " Compute <S^2>:                                    "
     ]
    },
    {
     "name": "stdout",
     "output_type": "stream",
     "text": [
      "  0.027724 seconds (250.46 k allocations: 16.217 MiB)\n",
      " E(Reference):       -18.32628771 \n",
      " E(PT2):             -18.32774711 \n",
      " E(BST):             -18.32955857 \n",
      "\n",
      "\n",
      "\n",
      "\n",
      " ===================================================================\n",
      "     BST Iteration:    9 epsilon:   0.01000000\n",
      " ===================================================================\n",
      " Ref state compressed from:                               195 → 41         (thresh =  1.0e-02)\n",
      " Compute zeroth-order energy:                      "
     ]
    },
    {
     "name": "stdout",
     "output_type": "stream",
     "text": [
      "  0.051072 seconds (439.86 k allocations: 32.701 MiB)\n",
      " Compute <S^2>:                                    "
     ]
    },
    {
     "name": "stdout",
     "output_type": "stream",
     "text": [
      "  0.006189 seconds (49.53 k allocations: 3.535 MiB)\n",
      "  Root       Energy           S2\n",
      "     1 -18.32623050   0.00005319\n"
     ]
    },
    {
     "name": "stdout",
     "output_type": "stream",
     "text": [
      "\n",
      " Compute FOIS. Reference space dim:                        41\n",
      " Number of tasks:                                         661\n",
      " Compute tasks:                                    \n"
     ]
    },
    {
     "name": "stdout",
     "output_type": "stream",
     "text": [
      " Time building compressed vector:                    1.259738 seconds   1.28e+00 Gb GC: 0.0e+00 sec\n"
     ]
    },
    {
     "name": "stdout",
     "output_type": "stream",
     "text": [
      " Add results together:                               0.261949 seconds   1.78e-01 Gb GC: 0.0e+00 sec\n"
     ]
    },
    {
     "name": "stdout",
     "output_type": "stream",
     "text": [
      " Total time spent building FOIS:                     1.522675 seconds\n",
      " FOIS compressed from:                                  97148 → 36772      (thresh =  1.0e-06)\n",
      "     1   7.48197751\n"
     ]
    },
    {
     "name": "stdout",
     "output_type": "stream",
     "text": [
      "\n",
      " PT vector reference space dim:                            41\n",
      " Length of input      FOIS:                             36772\n"
     ]
    },
    {
     "name": "stdout",
     "output_type": "stream",
     "text": [
      " Compute <X|V|0>:                                    0.670387 seconds   3.70e-01 Gb\n"
     ]
    },
    {
     "name": "stdout",
     "output_type": "stream",
     "text": [
      "  Root      <0|H|0>      <0|F|0>\n",
      "     1 -18.32623050 -10.80076529\n"
     ]
    },
    {
     "name": "stdout",
     "output_type": "stream",
     "text": [
      " Compute <X|F|0>:                                    0.005801 seconds   4.64e-03 Gb\n",
      " Cache zeroth-order Hamiltonian:                     0.037691 seconds   7.26e-02 Gb\n"
     ]
    },
    {
     "name": "stdout",
     "output_type": "stream",
     "text": [
      "  1\t4.51e-02\n"
     ]
    },
    {
     "name": "stdout",
     "output_type": "stream",
     "text": [
      "  2\t2.39e-02\n"
     ]
    },
    {
     "name": "stdout",
     "output_type": "stream",
     "text": [
      "  3\t2.19e-02\n"
     ]
    },
    {
     "name": "stdout",
     "output_type": "stream",
     "text": [
      "  4\t2.74e-02\n"
     ]
    },
    {
     "name": "stdout",
     "output_type": "stream",
     "text": [
      "  5\t5.07e-02\n"
     ]
    },
    {
     "name": "stdout",
     "output_type": "stream",
     "text": [
      "  6\t2.28e-01\n"
     ]
    },
    {
     "name": "stdout",
     "output_type": "stream",
     "text": [
      "  7\t1.38e-01\n"
     ]
    },
    {
     "name": "stdout",
     "output_type": "stream",
     "text": [
      "  8\t5.25e-02\n"
     ]
    },
    {
     "name": "stdout",
     "output_type": "stream",
     "text": [
      "  9\t2.34e-02\n"
     ]
    },
    {
     "name": "stdout",
     "output_type": "stream",
     "text": [
      " 10\t9.91e-03\n"
     ]
    },
    {
     "name": "stdout",
     "output_type": "stream",
     "text": [
      " 11\t4.40e-03\n"
     ]
    },
    {
     "name": "stdout",
     "output_type": "stream",
     "text": [
      " 12\t1.76e-03\n"
     ]
    },
    {
     "name": "stdout",
     "output_type": "stream",
     "text": [
      " 13\t5.98e-04\n"
     ]
    },
    {
     "name": "stdout",
     "output_type": "stream",
     "text": [
      " 14\t2.70e-04\n"
     ]
    },
    {
     "name": "stdout",
     "output_type": "stream",
     "text": [
      " 15\t1.46e-04\n"
     ]
    },
    {
     "name": "stdout",
     "output_type": "stream",
     "text": [
      " 16\t7.35e-05\n"
     ]
    },
    {
     "name": "stdout",
     "output_type": "stream",
     "text": [
      " 17\t3.65e-05\n"
     ]
    },
    {
     "name": "stdout",
     "output_type": "stream",
     "text": [
      " 18\t1.75e-05\n"
     ]
    },
    {
     "name": "stdout",
     "output_type": "stream",
     "text": [
      " 19\t7.74e-06\n",
      "\n",
      " Time to solve for PT1 with conjugate gradient:      4.502834 seconds   3.23e+00 Gb\n"
     ]
    },
    {
     "name": "stdout",
     "output_type": "stream",
     "text": [
      " Compute <0|H|1>:                                    0.642238 seconds   4.10e-01 Gb\n",
      " SxC[r]   0.96324571 SxSx   0.99998540\n",
      " State   1: E(PT2) corr:                          -0.00145178\n",
      " State   1: E(PT2):                              -18.32768227\n",
      " Time spent compute PT1 vector:                      5.985883 seconds\n",
      " PT compressed from:                               "
     ]
    },
    {
     "name": "stdout",
     "output_type": "stream",
     "text": [
      "     36772 → 195        (thresh =  1.0e-03)\n",
      " Overlap between <1|0>:                            0.96324571 \n",
      "\n",
      " Variational space compressed from:                       241 → 195        (thresh =  1.0e-03)\n",
      " Add new space to variational space:                 0.003251 seconds\n",
      " Solve in compressed FOIS:                         \n",
      " |== BST CI ========================================================\n",
      " Solve CI with # variables:                               195\n",
      " Cache Hamiltonian:                                "
     ]
    },
    {
     "name": "stdout",
     "output_type": "stream",
     "text": [
      "  0.266183 seconds (2.18 M allocations: 187.445 MiB)\n"
     ]
    },
    {
     "name": "stdout",
     "output_type": "stream",
     "text": [
      " Iter:   1 SS: 1    E:  -18.32838214   R: 4.3e-02   LinDep: 1.1e-15* \n"
     ]
    },
    {
     "name": "stdout",
     "output_type": "stream",
     "text": [
      " Iter:   2 SS: 2    E:  -18.32943061   R: 8.9e-03   LinDep: 1.1e-15* \n"
     ]
    },
    {
     "name": "stdout",
     "output_type": "stream",
     "text": [
      " Iter:   3 SS: 3    E:  -18.32947994   R: 2.4e-03   LinDep: 4.4e-16* \n"
     ]
    },
    {
     "name": "stdout",
     "output_type": "stream",
     "text": [
      " Iter:   4 SS: 4    E:  -18.32948356   R: 9.0e-04   LinDep: 0.0e+00* \n"
     ]
    },
    {
     "name": "stdout",
     "output_type": "stream",
     "text": [
      " Iter:   5 SS: 5    E:  -18.32948414   R: 2.6e-04   LinDep: 5.6e-16* \n"
     ]
    },
    {
     "name": "stdout",
     "output_type": "stream",
     "text": [
      " Iter:   6 SS: 6    E:  -18.32948421   R: 1.2e-04   LinDep: 2.2e-16* \n"
     ]
    },
    {
     "name": "stdout",
     "output_type": "stream",
     "text": [
      " Iter:   7 SS: 7    E:  -18.32948422   R: 3.7e-05   LinDep: 1.4e-15* \n"
     ]
    },
    {
     "name": "stdout",
     "output_type": "stream",
     "text": [
      " Iter:   8 SS: 8    E:  -18.32948422   R: 1.2e-05   LinDep: 1.1e-16* \n"
     ]
    },
    {
     "name": "stdout",
     "output_type": "stream",
     "text": [
      " Iter:   9 SS: 9    E:  -18.32948422*  R: 3.6e-06*  LinDep: 1.0e-15* \n"
     ]
    },
    {
     "name": "stdout",
     "output_type": "stream",
     "text": [
      " Diagonalization time:                               1.694039 seconds\n",
      " Compute <S^2>:                                    "
     ]
    },
    {
     "name": "stdout",
     "output_type": "stream",
     "text": [
      "  0.041442 seconds (249.60 k allocations: 15.722 MiB)\n"
     ]
    },
    {
     "name": "stdout",
     "output_type": "stream",
     "text": [
      "  Root       Energy           S2\n",
      "     1 -18.32948422   0.00010648\n",
      " ==================================================================|\n",
      " Compute <S^2>:                                    "
     ]
    },
    {
     "name": "stdout",
     "output_type": "stream",
     "text": [
      "  0.031696 seconds (250.64 k allocations: 16.225 MiB)\n",
      " E(Reference):       -18.32623050 \n",
      " E(PT2):             -18.32768227 \n",
      " E(BST):             -18.32948422 \n",
      "\n",
      "\n",
      "\n",
      "\n",
      " ===================================================================\n",
      "     BST Iteration:   10 epsilon:   0.01000000\n",
      " ===================================================================\n",
      " Ref state compressed from:                               195 → 41         (thresh =  1.0e-02)\n",
      " Compute zeroth-order energy:                      "
     ]
    },
    {
     "name": "stdout",
     "output_type": "stream",
     "text": [
      "  0.052911 seconds (441.09 k allocations: 32.756 MiB)\n",
      " Compute <S^2>:                                    "
     ]
    },
    {
     "name": "stdout",
     "output_type": "stream",
     "text": [
      "  0.006378 seconds (49.68 k allocations: 3.544 MiB)\n",
      "  Root       Energy           S2\n",
      "     1 -18.32615626   0.00006110\n"
     ]
    },
    {
     "name": "stdout",
     "output_type": "stream",
     "text": [
      "\n",
      " Compute FOIS. Reference space dim:                        41\n",
      " Number of tasks:                                         661\n",
      " Compute tasks:                                    \n"
     ]
    },
    {
     "name": "stdout",
     "output_type": "stream",
     "text": [
      " Time building compressed vector:                    1.229006 seconds   1.28e+00 Gb GC: 0.0e+00 sec\n"
     ]
    },
    {
     "name": "stdout",
     "output_type": "stream",
     "text": [
      " Add results together:                               0.261752 seconds   1.78e-01 Gb GC: 0.0e+00 sec\n"
     ]
    },
    {
     "name": "stdout",
     "output_type": "stream",
     "text": [
      " Total time spent building FOIS:                     1.491678 seconds\n",
      " FOIS compressed from:                                  96944 → 36760      (thresh =  1.0e-06)\n",
      "     1   7.48217808\n",
      "\n",
      " PT vector reference space dim:                            41\n"
     ]
    },
    {
     "name": "stdout",
     "output_type": "stream",
     "text": [
      " Length of input      FOIS:                             36760\n"
     ]
    },
    {
     "name": "stdout",
     "output_type": "stream",
     "text": [
      " Compute <X|V|0>:                                    0.759904 seconds   3.69e-01 Gb\n"
     ]
    },
    {
     "name": "stdout",
     "output_type": "stream",
     "text": [
      "  Root      <0|H|0>      <0|F|0>\n",
      "     1 -18.32615626 -10.80087645\n"
     ]
    },
    {
     "name": "stdout",
     "output_type": "stream",
     "text": [
      " Compute <X|F|0>:                                    0.005621 seconds   4.64e-03 Gb\n"
     ]
    },
    {
     "name": "stdout",
     "output_type": "stream",
     "text": [
      " Cache zeroth-order Hamiltonian:                     0.035845 seconds   7.25e-02 Gb\n"
     ]
    },
    {
     "name": "stdout",
     "output_type": "stream",
     "text": [
      "  1\t4.48e-02\n"
     ]
    },
    {
     "name": "stdout",
     "output_type": "stream",
     "text": [
      "  2\t2.37e-02\n"
     ]
    },
    {
     "name": "stdout",
     "output_type": "stream",
     "text": [
      "  3\t2.17e-02\n"
     ]
    },
    {
     "name": "stdout",
     "output_type": "stream",
     "text": [
      "  4\t2.71e-02\n"
     ]
    },
    {
     "name": "stdout",
     "output_type": "stream",
     "text": [
      "  5\t5.01e-02\n"
     ]
    },
    {
     "name": "stdout",
     "output_type": "stream",
     "text": [
      "  6\t2.25e-01\n"
     ]
    },
    {
     "name": "stdout",
     "output_type": "stream",
     "text": [
      "  7\t1.37e-01\n"
     ]
    },
    {
     "name": "stdout",
     "output_type": "stream",
     "text": [
      "  8\t5.19e-02\n"
     ]
    },
    {
     "name": "stdout",
     "output_type": "stream",
     "text": [
      "  9\t2.31e-02\n"
     ]
    },
    {
     "name": "stdout",
     "output_type": "stream",
     "text": [
      " 10\t9.85e-03\n"
     ]
    },
    {
     "name": "stdout",
     "output_type": "stream",
     "text": [
      " 11\t4.36e-03\n"
     ]
    },
    {
     "name": "stdout",
     "output_type": "stream",
     "text": [
      " 12\t1.74e-03\n"
     ]
    },
    {
     "name": "stdout",
     "output_type": "stream",
     "text": [
      " 13\t6.00e-04\n"
     ]
    },
    {
     "name": "stdout",
     "output_type": "stream",
     "text": [
      " 14\t2.80e-04\n"
     ]
    },
    {
     "name": "stdout",
     "output_type": "stream",
     "text": [
      " 15\t1.55e-04\n"
     ]
    },
    {
     "name": "stdout",
     "output_type": "stream",
     "text": [
      " 16\t7.69e-05\n"
     ]
    },
    {
     "name": "stdout",
     "output_type": "stream",
     "text": [
      " 17\t3.75e-05\n"
     ]
    },
    {
     "name": "stdout",
     "output_type": "stream",
     "text": [
      " 18\t1.78e-05\n"
     ]
    },
    {
     "name": "stdout",
     "output_type": "stream",
     "text": [
      " 19\t7.80e-06\n",
      "\n",
      " Time to solve for PT1 with conjugate gradient:      4.632373 seconds   3.22e+00 Gb\n"
     ]
    },
    {
     "name": "stdout",
     "output_type": "stream",
     "text": [
      " Compute <0|H|1>:                                    0.621408 seconds   4.15e-01 Gb\n",
      " SxC[r]   0.96303007 SxSx   0.99998232\n",
      " State   1: E(PT2) corr:                          -0.00144233\n",
      " State   1: E(PT2):                              -18.32759859\n",
      " Time spent compute PT1 vector:                      6.194075 seconds\n",
      " PT compressed from:                               "
     ]
    },
    {
     "name": "stdout",
     "output_type": "stream",
     "text": [
      "     36760 → 195        (thresh =  1.0e-03)\n",
      " Overlap between <1|0>:                            0.96303007 \n",
      "\n",
      " Variational space compressed from:                       241 → 195        (thresh =  1.0e-03)\n",
      " Add new space to variational space:                 0.003419 seconds\n",
      " Solve in compressed FOIS:                         \n",
      " |== BST CI ========================================================\n",
      " Solve CI with # variables:                               195\n",
      " Cache Hamiltonian:                                "
     ]
    },
    {
     "name": "stdout",
     "output_type": "stream",
     "text": [
      "  0.261983 seconds (2.19 M allocations: 188.025 MiB)\n"
     ]
    },
    {
     "name": "stdout",
     "output_type": "stream",
     "text": [
      " Iter:   1 SS: 1    E:  -18.32828765   R: 4.3e-02   LinDep: 0.0e+00* \n"
     ]
    },
    {
     "name": "stdout",
     "output_type": "stream",
     "text": [
      " Iter:   2 SS: 2    E:  -18.32933523   R: 8.9e-03   LinDep: 1.1e-16* \n"
     ]
    },
    {
     "name": "stdout",
     "output_type": "stream",
     "text": [
      " Iter:   3 SS: 3    E:  -18.32938446   R: 2.4e-03   LinDep: 5.6e-16* \n"
     ]
    },
    {
     "name": "stdout",
     "output_type": "stream",
     "text": [
      " Iter:   4 SS: 4    E:  -18.32938804   R: 8.9e-04   LinDep: 8.9e-16* \n"
     ]
    },
    {
     "name": "stdout",
     "output_type": "stream",
     "text": [
      " Iter:   5 SS: 5    E:  -18.32938861   R: 2.6e-04   LinDep: 1.4e-15* \n"
     ]
    },
    {
     "name": "stdout",
     "output_type": "stream",
     "text": [
      " Iter:   6 SS: 6    E:  -18.32938867   R: 1.2e-04   LinDep: 2.2e-16* \n"
     ]
    },
    {
     "name": "stdout",
     "output_type": "stream",
     "text": [
      " Iter:   7 SS: 7    E:  -18.32938868   R: 3.7e-05   LinDep: 1.6e-15* \n"
     ]
    },
    {
     "name": "stdout",
     "output_type": "stream",
     "text": [
      " Iter:   8 SS: 8    E:  -18.32938868   R: 1.2e-05   LinDep: 6.7e-16* \n"
     ]
    },
    {
     "name": "stdout",
     "output_type": "stream",
     "text": [
      " Iter:   9 SS: 9    E:  -18.32938868*  R: 3.6e-06*  LinDep: 1.3e-15* \n"
     ]
    },
    {
     "name": "stdout",
     "output_type": "stream",
     "text": [
      " Diagonalization time:                               1.817342 seconds\n",
      " Compute <S^2>:                                    "
     ]
    },
    {
     "name": "stdout",
     "output_type": "stream",
     "text": [
      "  0.027507 seconds (252.39 k allocations: 16.304 MiB)\n"
     ]
    },
    {
     "name": "stdout",
     "output_type": "stream",
     "text": [
      "  Root       Energy           S2\n",
      "     1 -18.32938868   0.00011599\n",
      " ==================================================================|\n",
      " Compute <S^2>:                                    "
     ]
    },
    {
     "name": "stdout",
     "output_type": "stream",
     "text": [
      "  0.032438 seconds (250.61 k allocations: 16.223 MiB)\n"
     ]
    },
    {
     "name": "stdout",
     "output_type": "stream",
     "text": [
      " E(Reference):       -18.32615626 \n",
      " E(PT2):             -18.32759859 \n",
      " E(BST):             -18.32938868 \n",
      "\n",
      "\n",
      "\n",
      "\n",
      " ===================================================================\n",
      "     BST Iteration:   11 epsilon:   0.01000000\n",
      " ===================================================================\n",
      " Ref state compressed from:                               195 → 41         (thresh =  1.0e-02)\n",
      " Compute zeroth-order energy:                      "
     ]
    },
    {
     "name": "stdout",
     "output_type": "stream",
     "text": [
      "  0.057679 seconds (444.13 k allocations: 32.929 MiB)\n",
      " Compute <S^2>:                                    "
     ]
    },
    {
     "name": "stdout",
     "output_type": "stream",
     "text": [
      "  0.006201 seconds (49.07 k allocations: 3.339 MiB)\n",
      "  Root       Energy           S2\n",
      "     1 -18.32606123   0.00007012\n"
     ]
    },
    {
     "name": "stdout",
     "output_type": "stream",
     "text": [
      "\n",
      " Compute FOIS. Reference space dim:                        41\n",
      " Number of tasks:                                         661\n",
      " Compute tasks:                                    \n"
     ]
    },
    {
     "name": "stdout",
     "output_type": "stream",
     "text": [
      " Time building compressed vector:                    1.262266 seconds   1.28e+00 Gb GC: 0.0e+00 sec\n"
     ]
    },
    {
     "name": "stdout",
     "output_type": "stream",
     "text": [
      " Add results together:                               0.267266 seconds   1.78e-01 Gb GC: 0.0e+00 sec\n"
     ]
    },
    {
     "name": "stdout",
     "output_type": "stream",
     "text": [
      " Total time spent building FOIS:                     1.530448 seconds\n",
      " FOIS compressed from:                                  96680 → 36596      (thresh =  1.0e-06)\n",
      "     1   7.48243054\n",
      "\n",
      " PT vector reference space dim:                            41\n"
     ]
    },
    {
     "name": "stdout",
     "output_type": "stream",
     "text": [
      " Length of input      FOIS:                             36596\n"
     ]
    },
    {
     "name": "stdout",
     "output_type": "stream",
     "text": [
      " Compute <X|V|0>:                                    0.678412 seconds   3.71e-01 Gb\n"
     ]
    },
    {
     "name": "stdout",
     "output_type": "stream",
     "text": [
      "  Root      <0|H|0>      <0|F|0>\n",
      "     1 -18.32606123 -10.80101805\n"
     ]
    },
    {
     "name": "stdout",
     "output_type": "stream",
     "text": [
      " Compute <X|F|0>:                                    0.005385 seconds   4.63e-03 Gb\n"
     ]
    },
    {
     "name": "stdout",
     "output_type": "stream",
     "text": [
      " Cache zeroth-order Hamiltonian:                     0.044073 seconds   7.25e-02 Gb\n"
     ]
    },
    {
     "name": "stdout",
     "output_type": "stream",
     "text": [
      "  1\t4.45e-02\n"
     ]
    },
    {
     "name": "stdout",
     "output_type": "stream",
     "text": [
      "  2\t2.35e-02\n"
     ]
    },
    {
     "name": "stdout",
     "output_type": "stream",
     "text": [
      "  3\t2.15e-02\n"
     ]
    },
    {
     "name": "stdout",
     "output_type": "stream",
     "text": [
      "  4\t2.68e-02\n"
     ]
    },
    {
     "name": "stdout",
     "output_type": "stream",
     "text": [
      "  5\t4.94e-02\n"
     ]
    },
    {
     "name": "stdout",
     "output_type": "stream",
     "text": [
      "  6\t2.21e-01\n"
     ]
    },
    {
     "name": "stdout",
     "output_type": "stream",
     "text": [
      "  7\t1.37e-01\n"
     ]
    },
    {
     "name": "stdout",
     "output_type": "stream",
     "text": [
      "  8\t5.12e-02\n"
     ]
    },
    {
     "name": "stdout",
     "output_type": "stream",
     "text": [
      "  9\t2.28e-02\n"
     ]
    },
    {
     "name": "stdout",
     "output_type": "stream",
     "text": [
      " 10\t9.78e-03\n"
     ]
    },
    {
     "name": "stdout",
     "output_type": "stream",
     "text": [
      " 11\t4.31e-03\n"
     ]
    },
    {
     "name": "stdout",
     "output_type": "stream",
     "text": [
      " 12\t1.72e-03\n"
     ]
    },
    {
     "name": "stdout",
     "output_type": "stream",
     "text": [
      " 13\t6.05e-04\n"
     ]
    },
    {
     "name": "stdout",
     "output_type": "stream",
     "text": [
      " 14\t2.94e-04\n"
     ]
    },
    {
     "name": "stdout",
     "output_type": "stream",
     "text": [
      " 15\t1.65e-04\n"
     ]
    },
    {
     "name": "stdout",
     "output_type": "stream",
     "text": [
      " 16\t8.05e-05\n"
     ]
    },
    {
     "name": "stdout",
     "output_type": "stream",
     "text": [
      " 17\t3.84e-05\n"
     ]
    },
    {
     "name": "stdout",
     "output_type": "stream",
     "text": [
      " 18\t1.80e-05\n"
     ]
    },
    {
     "name": "stdout",
     "output_type": "stream",
     "text": [
      " 19\t7.81e-06\n",
      "\n",
      " Time to solve for PT1 with conjugate gradient:      4.751189 seconds   3.22e+00 Gb\n"
     ]
    },
    {
     "name": "stdout",
     "output_type": "stream",
     "text": [
      " Compute <0|H|1>:                                    0.692014 seconds   4.12e-01 Gb\n",
      " SxC[r]   0.96277960 SxSx   0.99997863\n",
      " State   1: E(PT2) corr:                          -0.00143083\n",
      " State   1: E(PT2):                              -18.32749206\n",
      " Time spent compute PT1 vector:                      6.319139 seconds\n",
      " PT compressed from:                                    36596 → 196        (thresh =  1.0e-03)\n",
      " Overlap between <1|0>:                            0.96277960 \n",
      "\n",
      " Variational space compressed from:                       242 → 196        (thresh =  1.0e-03)\n",
      " Add new space to variational space:                 0.003410 seconds\n",
      " Solve in compressed FOIS:                         \n",
      " |== BST CI ========================================================\n",
      " Solve CI with # variables:                               196\n",
      " Cache Hamiltonian:                                "
     ]
    },
    {
     "name": "stdout",
     "output_type": "stream",
     "text": [
      "  0.274636 seconds (2.32 M allocations: 195.775 MiB)\n"
     ]
    },
    {
     "name": "stdout",
     "output_type": "stream",
     "text": [
      " Iter:   1 SS: 1    E:  -18.32816862   R: 4.3e-02   LinDep: 1.1e-16* \n"
     ]
    },
    {
     "name": "stdout",
     "output_type": "stream",
     "text": [
      " Iter:   2 SS: 2    E:  -18.32921504   R: 8.9e-03   LinDep: 0.0e+00* \n"
     ]
    },
    {
     "name": "stdout",
     "output_type": "stream",
     "text": [
      " Iter:   3 SS: 3    E:  -18.32926416   R: 2.4e-03   LinDep: 1.1e-16* \n"
     ]
    },
    {
     "name": "stdout",
     "output_type": "stream",
     "text": [
      " Iter:   4 SS: 4    E:  -18.32926771   R: 8.9e-04   LinDep: 1.1e-15* \n"
     ]
    },
    {
     "name": "stdout",
     "output_type": "stream",
     "text": [
      " Iter:   5 SS: 5    E:  -18.32926827   R: 2.6e-04   LinDep: 2.6e-15* \n"
     ]
    },
    {
     "name": "stdout",
     "output_type": "stream",
     "text": [
      " Iter:   6 SS: 6    E:  -18.32926833   R: 1.2e-04   LinDep: 6.7e-16* \n"
     ]
    },
    {
     "name": "stdout",
     "output_type": "stream",
     "text": [
      " Iter:   7 SS: 7    E:  -18.32926834   R: 3.7e-05   LinDep: 1.9e-15* \n"
     ]
    },
    {
     "name": "stdout",
     "output_type": "stream",
     "text": [
      " Iter:   8 SS: 8    E:  -18.32926834   R: 1.2e-05   LinDep: 1.6e-15* \n"
     ]
    },
    {
     "name": "stdout",
     "output_type": "stream",
     "text": [
      " Iter:   9 SS: 9    E:  -18.32926834*  R: 3.6e-06*  LinDep: 3.2e-15* \n"
     ]
    },
    {
     "name": "stdout",
     "output_type": "stream",
     "text": [
      " Diagonalization time:                               1.178601 seconds\n",
      " Compute <S^2>:                                    "
     ]
    },
    {
     "name": "stdout",
     "output_type": "stream",
     "text": [
      "  0.041394 seconds (259.62 k allocations: 16.746 MiB)\n"
     ]
    },
    {
     "name": "stdout",
     "output_type": "stream",
     "text": [
      "  Root       Energy           S2\n",
      "     1 -18.32926834   0.00012677\n",
      " ==================================================================|\n",
      " Compute <S^2>:                                    "
     ]
    },
    {
     "name": "stdout",
     "output_type": "stream",
     "text": [
      "  0.028045 seconds (258.86 k allocations: 16.717 MiB)\n",
      " E(Reference):       -18.32606123 \n",
      " E(PT2):             -18.32749206 \n",
      " E(BST):             -18.32926834 \n",
      "\n",
      "\n",
      "\n",
      "\n",
      " ===================================================================\n",
      "     BST Iteration:   12 epsilon:   0.01000000\n",
      " ===================================================================\n",
      " Ref state compressed from:                               196 → 41         (thresh =  1.0e-02)\n",
      " Compute zeroth-order energy:                      "
     ]
    },
    {
     "name": "stdout",
     "output_type": "stream",
     "text": [
      "  0.050014 seconds (439.86 k allocations: 32.694 MiB)\n",
      " Compute <S^2>:                                    "
     ]
    },
    {
     "name": "stdout",
     "output_type": "stream",
     "text": [
      "  0.006093 seconds (49.61 k allocations: 3.539 MiB)\n",
      "  Root       Energy           S2\n",
      "     1 -18.32594115   0.00008038\n"
     ]
    },
    {
     "name": "stdout",
     "output_type": "stream",
     "text": [
      "\n",
      " Compute FOIS. Reference space dim:                        41\n",
      " Number of tasks:                                         661\n",
      " Compute tasks:                                    \n"
     ]
    },
    {
     "name": "stdout",
     "output_type": "stream",
     "text": [
      " Time building compressed vector:                    1.877755 seconds   1.27e+00 Gb GC: 6.5e-01 sec\n"
     ]
    },
    {
     "name": "stdout",
     "output_type": "stream",
     "text": [
      " Add results together:                               0.261278 seconds   1.77e-01 Gb GC: 0.0e+00 sec\n"
     ]
    },
    {
     "name": "stdout",
     "output_type": "stream",
     "text": [
      " Total time spent building FOIS:                     2.140940 seconds\n",
      " FOIS compressed from:                                  96472 → 36524      (thresh =  1.0e-06)\n",
      "     1   7.48274276\n",
      "\n",
      " PT vector reference space dim:                            41\n"
     ]
    },
    {
     "name": "stdout",
     "output_type": "stream",
     "text": [
      " Length of input      FOIS:                             36524\n"
     ]
    },
    {
     "name": "stdout",
     "output_type": "stream",
     "text": [
      " Compute <X|V|0>:                                    0.717373 seconds   3.70e-01 Gb\n"
     ]
    },
    {
     "name": "stdout",
     "output_type": "stream",
     "text": [
      "  Root      <0|H|0>      <0|F|0>\n",
      "     1 -18.32594115 -10.80119242\n"
     ]
    },
    {
     "name": "stdout",
     "output_type": "stream",
     "text": [
      " Compute <X|F|0>:                                    0.005477 seconds   4.62e-03 Gb\n"
     ]
    },
    {
     "name": "stdout",
     "output_type": "stream",
     "text": [
      " Cache zeroth-order Hamiltonian:                     0.044992 seconds   7.73e-02 Gb\n"
     ]
    },
    {
     "name": "stdout",
     "output_type": "stream",
     "text": [
      "  1\t4.41e-02\n"
     ]
    },
    {
     "name": "stdout",
     "output_type": "stream",
     "text": [
      "  2\t2.32e-02\n"
     ]
    },
    {
     "name": "stdout",
     "output_type": "stream",
     "text": [
      "  3\t2.11e-02\n"
     ]
    },
    {
     "name": "stdout",
     "output_type": "stream",
     "text": [
      "  4\t2.63e-02\n"
     ]
    },
    {
     "name": "stdout",
     "output_type": "stream",
     "text": [
      "  5\t4.84e-02\n"
     ]
    },
    {
     "name": "stdout",
     "output_type": "stream",
     "text": [
      "  6\t2.16e-01\n"
     ]
    },
    {
     "name": "stdout",
     "output_type": "stream",
     "text": [
      "  7\t1.36e-01\n"
     ]
    },
    {
     "name": "stdout",
     "output_type": "stream",
     "text": [
      "  8\t5.04e-02\n"
     ]
    },
    {
     "name": "stdout",
     "output_type": "stream",
     "text": [
      "  9\t2.24e-02\n"
     ]
    },
    {
     "name": "stdout",
     "output_type": "stream",
     "text": [
      " 10\t9.70e-03\n"
     ]
    },
    {
     "name": "stdout",
     "output_type": "stream",
     "text": [
      " 11\t4.26e-03\n"
     ]
    },
    {
     "name": "stdout",
     "output_type": "stream",
     "text": [
      " 12\t1.70e-03\n"
     ]
    },
    {
     "name": "stdout",
     "output_type": "stream",
     "text": [
      " 13\t6.12e-04\n"
     ]
    },
    {
     "name": "stdout",
     "output_type": "stream",
     "text": [
      " 14\t3.13e-04\n"
     ]
    },
    {
     "name": "stdout",
     "output_type": "stream",
     "text": [
      " 15\t1.76e-04\n"
     ]
    },
    {
     "name": "stdout",
     "output_type": "stream",
     "text": [
      " 16\t8.36e-05\n"
     ]
    },
    {
     "name": "stdout",
     "output_type": "stream",
     "text": [
      " 17\t3.90e-05\n"
     ]
    },
    {
     "name": "stdout",
     "output_type": "stream",
     "text": [
      " 18\t1.79e-05\n"
     ]
    },
    {
     "name": "stdout",
     "output_type": "stream",
     "text": [
      " 19\t7.74e-06\n",
      "\n",
      " Time to solve for PT1 with conjugate gradient:      4.597215 seconds   3.21e+00 Gb\n"
     ]
    },
    {
     "name": "stdout",
     "output_type": "stream",
     "text": [
      " Compute <0|H|1>:                                    0.709018 seconds   4.11e-01 Gb\n",
      " SxC[r]   0.96242723 SxSx   0.99997424\n",
      " State   1: E(PT2) corr:                          -0.00141715\n",
      " State   1: E(PT2):                              -18.32735831\n",
      " Time spent compute PT1 vector:                      6.199128 seconds\n",
      " PT compressed from:                               "
     ]
    },
    {
     "name": "stdout",
     "output_type": "stream",
     "text": [
      "     36524 → 196        (thresh =  1.0e-03)\n",
      " Overlap between <1|0>:                            0.96242723 \n",
      "\n",
      " Variational space compressed from:                       242 → 196        (thresh =  1.0e-03)\n",
      " Add new space to variational space:                 0.003372 seconds\n",
      " Solve in compressed FOIS:                         \n",
      " |== BST CI ========================================================\n",
      " Solve CI with # variables:                               196\n",
      " Cache Hamiltonian:                                "
     ]
    },
    {
     "name": "stdout",
     "output_type": "stream",
     "text": [
      "  0.273152 seconds (2.29 M allocations: 193.509 MiB)\n"
     ]
    },
    {
     "name": "stdout",
     "output_type": "stream",
     "text": [
      " Iter:   1 SS: 1    E:  -18.32801925   R: 4.3e-02   LinDep: 4.4e-16* \n"
     ]
    },
    {
     "name": "stdout",
     "output_type": "stream",
     "text": [
      " Iter:   2 SS: 2    E:  -18.32906391   R: 8.8e-03   LinDep: 2.2e-16* \n"
     ]
    },
    {
     "name": "stdout",
     "output_type": "stream",
     "text": [
      " Iter:   3 SS: 3    E:  -18.32911288   R: 2.3e-03   LinDep: 6.7e-16* \n"
     ]
    },
    {
     "name": "stdout",
     "output_type": "stream",
     "text": [
      " Iter:   4 SS: 4    E:  -18.32911638   R: 8.8e-04   LinDep: 7.8e-16* \n"
     ]
    },
    {
     "name": "stdout",
     "output_type": "stream",
     "text": [
      " Iter:   5 SS: 5    E:  -18.32911692   R: 2.5e-04   LinDep: 2.4e-15* \n"
     ]
    },
    {
     "name": "stdout",
     "output_type": "stream",
     "text": [
      " Iter:   6 SS: 6    E:  -18.32911699   R: 1.2e-04   LinDep: 1.1e-16* \n"
     ]
    }
   ],
   "source": [
    "ebst, vbst = FermiCG.block_sparse_tucker(v, cluster_ops, clustered_ham, thresh_var=1e-2, thresh_foi=1e-6, thresh_pt=1e-3)"
   ]
  },
  {
   "cell_type": "code",
   "execution_count": null,
   "metadata": {},
   "outputs": [],
   "source": [
    "ebst, vbst = FermiCG.block_sparse_tucker_new(v, cluster_ops, clustered_ham, thresh_var=1e-2, thresh_foi=1e-6, thresh_pt=1e-3)"
   ]
  }
 ],
 "metadata": {
  "kernelspec": {
   "display_name": "Julia 1.7.2",
   "language": "julia",
   "name": "julia-1.7"
  },
  "language_info": {
   "file_extension": ".jl",
   "mimetype": "application/julia",
   "name": "julia",
   "version": "1.7.2"
  },
  "orig_nbformat": 4
 },
 "nbformat": 4,
 "nbformat_minor": 2
}
