{
 "cells": [
  {
   "cell_type": "code",
   "execution_count": 4,
   "id": "bizarre-chuck",
   "metadata": {},
   "outputs": [],
   "source": [
    "using FermiCG\n",
    "using PyCall\n",
    "using Plots\n",
    "using LinearAlgebra\n",
    "using Printf"
   ]
  },
  {
   "cell_type": "markdown",
   "id": "fatty-clinic",
   "metadata": {},
   "source": [
    "## Import PYSCF data"
   ]
  },
  {
   "cell_type": "code",
   "execution_count": 5,
   "id": "static-playing",
   "metadata": {},
   "outputs": [],
   "source": [
    "pyscf = pyimport(\"pyscf\");\n",
    "fcidump = pyimport(\"pyscf.tools.fcidump\");\n",
    "ctx = fcidump.read(\"fe2s2\");\n",
    "h = ctx[\"H1\"];\n",
    "g = ctx[\"H2\"];\n",
    "ecore = ctx[\"ECORE\"];\n",
    "g = pyscf.ao2mo.restore(\"1\", g, size(h,2));"
   ]
  },
  {
   "cell_type": "code",
   "execution_count": 6,
   "id": "distant-distribution",
   "metadata": {},
   "outputs": [
    {
     "data": {
      "text/plain": [
       "6-element Array{Cluster,1}:\n",
       " Cluster(1, [1, 2])\n",
       " Cluster(2, [3, 4, 5, 6, 7])\n",
       " Cluster(3, [8, 10, 12])\n",
       " Cluster(4, [9, 11, 13])\n",
       " Cluster(5, [14, 15, 16, 17, 18])\n",
       " Cluster(6, [19, 20])"
      ]
     },
     "metadata": {},
     "output_type": "display_data"
    }
   ],
   "source": [
    "# blocking from paper\n",
    "blocks = [[0,1],[2,3,4,5,6],[7,9,11],[8,10,12],[13,14,15,16,17],[18,19]]\n",
    "init_fspace = ((2,2),(5,0),(3,3),(3,3),(5,0),(2,2))\n",
    "\n",
    "for b in blocks\n",
    "    b .+= 1\n",
    "end\n",
    "clusters = [Cluster(i,collect(blocks[i])) for i = 1:length(blocks)]\n",
    "display(clusters)"
   ]
  },
  {
   "cell_type": "code",
   "execution_count": null,
   "id": "surrounded-collective",
   "metadata": {},
   "outputs": [],
   "source": [
    "# blocking 1\n",
    "blocks = [  [0,1,2,3,6,7,8],        # L1(sig)+ Fe1(t) + L2(sig)\n",
    "            [11,12,13,16,17,18,19], # L2(sig)+ Fe2(t) + L3(sig)\n",
    "            [4,5,9,10,14,15],       # Fe1(e) + Fe2(e) + L2(pi)\n",
    "         ]\n",
    "\n",
    "init_fspace = ((7,4), (7,4), (4,4))\n",
    "\n",
    "for b in blocks\n",
    "    b .+= 1\n",
    "end\n",
    "clusters = [Cluster(i,collect(blocks[i])) for i = 1:length(blocks)]\n",
    "display(clusters)\n"
   ]
  },
  {
   "cell_type": "code",
   "execution_count": 7,
   "id": "applied-audience",
   "metadata": {},
   "outputs": [
    {
     "data": {
      "text/plain": [
       "20"
      ]
     },
     "metadata": {},
     "output_type": "display_data"
    },
    {
     "data": {
      "text/plain": [
       "10"
      ]
     },
     "metadata": {},
     "output_type": "display_data"
    }
   ],
   "source": [
    "ints = InCoreInts(ecore,h,g);\n",
    "\n",
    "na = 0\n",
    "nb = 0\n",
    "for f in init_fspace\n",
    "    na += f[1]\n",
    "    nb += f[2]\n",
    "end\n",
    "display(na)\n",
    "display(nb)\n",
    "# get initial guess for 1RDM\n",
    "tmp = eigen(ints.h1).vectors;\n",
    "rdm1a_guess = tmp[:,1:na]*tmp[:,1:na]';\n",
    "rdm1b_guess = tmp[:,1:nb]*tmp[:,1:nb]';\n",
    "# eigen(ints.h1).values\n"
   ]
  },
  {
   "cell_type": "code",
   "execution_count": 10,
   "id": "heard-specification",
   "metadata": {},
   "outputs": [
    {
     "name": "stdout",
     "output_type": "stream",
     "text": [
      " ooCMF Iter:    1 Total= -115.958971122269 Active= -115.958971122269 G=     5.68e-01\n",
      " ooCMF Iter:    2 Total= -116.452566166470 Active= -116.452566166470 G=     2.75e-01\n",
      " ooCMF Iter:    3 Total= -116.487390854933 Active= -116.487390854933 G=     1.43e-01\n",
      " ooCMF Iter:    4 Total= -116.503317395887 Active= -116.503317395887 G=     6.98e-02\n",
      " ooCMF Iter:    5 Total= -116.506555919580 Active= -116.506555919580 G=     2.48e-02\n",
      " ooCMF Iter:    6 Total= -116.506990651447 Active= -116.506990651447 G=     8.78e-03\n",
      " ooCMF Iter:    7 Total= -116.507077222629 Active= -116.507077222629 G=     6.40e-03\n",
      " ooCMF Iter:    8 Total= -116.507125519400 Active= -116.507125519400 G=     2.62e-03\n",
      " ooCMF Iter:    9 Total= -116.507130990476 Active= -116.507130990476 G=     1.05e-03\n",
      " ooCMF Iter:   10 Total= -116.507131947301 Active= -116.507131947301 G=     5.05e-04\n",
      " ooCMF Iter:   11 Total= -116.507132184537 Active= -116.507132184537 G=     2.42e-04\n",
      " ooCMF Iter:   12 Total= -116.507132234567 Active= -116.507132234567 G=     1.14e-04\n",
      " ooCMF Iter:   13 Total= -116.507132246169 Active= -116.507132246169 G=     6.64e-05\n",
      " ooCMF Iter:   14 Total= -116.507132249454 Active= -116.507132249454 G=     3.21e-05\n",
      " ooCMF Iter:   15 Total= -116.507132250549 Active= -116.507132250549 G=     1.25e-05\n",
      " ooCMF Iter:   16 Total= -116.507132250693 Active= -116.507132250693 G=     4.03e-06\n",
      " ooCMF Iter:   17 Total= -116.507132250708 Active= -116.507132250708 G=     2.47e-06\n",
      " ooCMF Iter:   18 Total= -116.507132250716 Active= -116.507132250716 G=     1.84e-06\n",
      " ooCMF Iter:   19 Total= -116.507132250719 Active= -116.507132250719 G=     6.10e-07\n",
      " ooCMF Iter:   20 Total= -116.507132250720 Active= -116.507132250720 G=     2.38e-07\n",
      " ooCMF Iter:   21 Total= -116.507132250720 Active= -116.507132250720 G=     1.24e-07\n",
      " ooCMF Iter:   22 Total= -116.507132250720 Active= -116.507132250720 G=     6.52e-08\n",
      " ooCMF Iter:   23 Total= -116.507132250720 Active= -116.507132250720 G=     2.84e-08\n",
      " ooCMF Iter:   24 Total= -116.507132250720 Active= -116.507132250720 G=     1.58e-08\n",
      " ooCMF Iter:   25 Total= -116.507132250720 Active= -116.507132250720 G=     5.94e-09\n"
     ]
    },
    {
     "data": {
      "text/plain": [
       " * Status: success\n",
       "\n",
       " * Candidate solution\n",
       "    Final objective value:     -1.165071e+02\n",
       "\n",
       " * Found with\n",
       "    Algorithm:     BFGS\n",
       "\n",
       " * Convergence measures\n",
       "    |x - x'|               = 4.20e-09 ≰ 0.0e+00\n",
       "    |x - x'|/|x'|          = 1.10e-08 ≰ 0.0e+00\n",
       "    |f(x) - f(x')|         = 2.84e-14 ≰ 0.0e+00\n",
       "    |f(x) - f(x')|/|f(x')| = 2.44e-16 ≰ 0.0e+00\n",
       "    |g(x)|                 = 9.62e-10 ≤ 1.0e-09\n",
       "\n",
       " * Work counters\n",
       "    Seconds run:   4  (vs limit Inf)\n",
       "    Iterations:    25\n",
       "    f(x) calls:    75\n",
       "    ∇f(x) calls:   75\n"
      ]
     },
     "metadata": {},
     "output_type": "display_data"
    },
    {
     "name": "stdout",
     "output_type": "stream",
     "text": [
      " ooCMF Iter:   26 Total= -116.507132250720 Active= -116.507132250720 G=     2.66e-09\n",
      "*ooCMF -116.50713225 \n"
     ]
    }
   ],
   "source": [
    "e_cmf, U, Da, Db  = FermiCG.cmf_oo(ints, clusters, init_fspace, rdm1a_guess, rdm1b_guess,\n",
    "                                        max_iter_oo=40, verbose=0, gconv=1e-9, method=\"bfgs\");\n",
    "ints2 = FermiCG.orbital_rotation(ints,U);\n"
   ]
  },
  {
   "cell_type": "code",
   "execution_count": null,
   "id": "f1f40d23",
   "metadata": {},
   "outputs": [],
   "source": []
  }
 ],
 "metadata": {
  "kernelspec": {
   "display_name": "Julia 1.5.2",
   "language": "julia",
   "name": "julia-1.5"
  },
  "language_info": {
   "file_extension": ".jl",
   "mimetype": "application/julia",
   "name": "julia",
   "version": "1.5.2"
  }
 },
 "nbformat": 4,
 "nbformat_minor": 5
}
